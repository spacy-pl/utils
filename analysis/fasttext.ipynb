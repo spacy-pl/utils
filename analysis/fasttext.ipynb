{
 "cells": [
  {
   "cell_type": "code",
   "execution_count": 1,
   "metadata": {},
   "outputs": [],
   "source": [
    "import os\n",
    "from spacy.vectors import Vectors\n",
    "import numpy as np\n",
    "import matplotlib.pyplot as plt"
   ]
  },
  {
   "cell_type": "markdown",
   "metadata": {},
   "source": [
    "# Code"
   ]
  },
  {
   "cell_type": "code",
   "execution_count": 2,
   "metadata": {},
   "outputs": [],
   "source": [
    "def get_file_size(filepath):\n",
    "    statinfo = os.stat(filepath)\n",
    "    size_mb = statinfo.st_size / 1024 / 1024\n",
    "    return size_mb"
   ]
  },
  {
   "cell_type": "code",
   "execution_count": 3,
   "metadata": {},
   "outputs": [],
   "source": [
    "class My_vec():\n",
    "    \n",
    "    def __init__(self, filepath):\n",
    "        self.filepath = filepath\n",
    "        with open(self.filepath, 'rb') as file_:\n",
    "            header = file_.readline()\n",
    "            nr_row, nr_dim = header.split()\n",
    "        self.nr_row = int(nr_row)\n",
    "        self.nr_dim = int(nr_dim)\n",
    "     \n",
    "    @property\n",
    "    def size(self):       \n",
    "        return get_file_size(self.filepath)\n",
    "        \n",
    "    def _get_key(self, line):\n",
    "        line = line.rstrip().decode('utf8')\n",
    "        pieces = line.rsplit(' ', self.nr_dim)\n",
    "        return pieces[0]\n",
    "    \n",
    "    def _get_vector(self, line):\n",
    "        line = line.rstrip().decode('utf8')\n",
    "        pieces = line.rsplit(' ', self.nr_dim)\n",
    "        vec = np.asarray(list(map(float, pieces[1:])), dtype='f')   \n",
    "        return vec\n",
    "        \n",
    "    def keys(self, size=None):\n",
    "        with open(self.filepath, 'rb') as file_:\n",
    "            file_.readline() #first line\n",
    "            words = [self._get_key(line) for count, line in enumerate(file_, 1)\n",
    "                     if size is None or count <= size]\n",
    "        return words\n",
    "    \n",
    "    def vectors(self, size=None):\n",
    "        with open(self.filepath, 'rb') as file_:\n",
    "            file_.readline() #first line\n",
    "            vectors = [self._get_vector(line) for count, line in enumerate(file_, 1)\n",
    "                     if size is None or count <= size]\n",
    "        vectors = np.array(vectors)\n",
    "        return vectors\n",
    "    \n",
    "    def get_first_n(self, n):\n",
    "        lines = [\"\"] * n\n",
    "        with open(self.filepath, 'rb') as file_:\n",
    "            file_.readline()\n",
    "            for count, line in enumerate(file_):    \n",
    "                if count >= n:\n",
    "                    break\n",
    "                lines[count] = line\n",
    "        return lines\n"
   ]
  },
  {
   "cell_type": "code",
   "execution_count": 4,
   "metadata": {},
   "outputs": [],
   "source": [
    "def get_ints_sizes(for_cutting, ref, n=100):\n",
    "    ref_s = set(ref)\n",
    "    sizes = np.linspace(len(ref), len(for_cutting), n)\n",
    "    sizes = list(map(int, sizes))\n",
    "    ints_s = [len(set(for_cutting[:s]) & ref_s) for s in sizes]\n",
    "    ints_s = [s/len(ref) for s in ints_s]\n",
    "    sizes = [s/1000 for s in sizes]\n",
    "    return ints_s, sizes"
   ]
  },
  {
   "cell_type": "markdown",
   "metadata": {},
   "source": [
    "# Consts"
   ]
  },
  {
   "cell_type": "code",
   "execution_count": 5,
   "metadata": {},
   "outputs": [],
   "source": [
    "FASTTEXT_PATH = '../data/vectors/cc.pl.300.vec'\n",
    "WORD2VEC_PATH = '../data/vectors_300.txt'\n",
    "NEW_VEC_TXT = '../data/vectors/fasttext.txt'\n",
    "NEW_VEC_BIN = '../data/vectors/fasttext_spacy'"
   ]
  },
  {
   "cell_type": "markdown",
   "metadata": {},
   "source": [
    "# Compare vectors"
   ]
  },
  {
   "cell_type": "code",
   "execution_count": 6,
   "metadata": {},
   "outputs": [],
   "source": [
    "fst = My_vec(FASTTEXT_PATH)\n",
    "w2v = My_vec(WORD2VEC_PATH)\n",
    "fst_keys = fst.keys()\n",
    "w2v_keys = w2v.keys()"
   ]
  },
  {
   "cell_type": "code",
   "execution_count": 7,
   "metadata": {},
   "outputs": [
    {
     "data": {
      "text/plain": [
       "[<matplotlib.lines.Line2D at 0x7f72440e2208>]"
      ]
     },
     "execution_count": 7,
     "metadata": {},
     "output_type": "execute_result"
    },
    {
     "data": {
      "image/png": "[encoded data removed]",
      "text/plain": [
       "<Figure size 432x288 with 1 Axes>"
      ]
     },
     "metadata": {
      "needs_background": "light"
     },
     "output_type": "display_data"
    }
   ],
   "source": [
    "ints_s, sizes = get_ints_sizes(fst_keys, w2v_keys,50)\n",
    "plt.plot(sizes, ints_s)"
   ]
  },
  {
   "cell_type": "code",
   "execution_count": 8,
   "metadata": {},
   "outputs": [
    {
     "name": "stdout",
     "output_type": "stream",
     "text": [
      "With CHOSEN_SIZE=700000, we cover 82.9% of words from nkjp\n"
     ]
    }
   ],
   "source": [
    "CHOSEN_SIZE = 700000\n",
    "# get chosen vectors\n",
    "fst_short_k = fst_keys[:CHOSEN_SIZE]\n",
    "fst_short_v = fst.vectors(CHOSEN_SIZE)\n",
    "\n",
    "assert len(fst_short_k) == len(fst_short_v) and len(fst_short_k) == CHOSEN_SIZE\n",
    "\n",
    "new_inter = set(fst_short_k) & set(w2v_keys)\n",
    "print(\"With CHOSEN_SIZE={}, we cover {:.1f}% of words from nkjp\".format(CHOSEN_SIZE, len(new_inter)/len(w2v_keys)*100))"
   ]
  },
  {
   "cell_type": "markdown",
   "metadata": {},
   "source": [
    "Uncomment cells below to prepare files"
   ]
  },
  {
   "cell_type": "code",
   "execution_count": 9,
   "metadata": {},
   "outputs": [
    {
     "name": "stdout",
     "output_type": "stream",
     "text": [
      "Chosen fasttexts in binary format weight 1602 MB\n"
     ]
    }
   ],
   "source": [
    "# fst_spacy = Vectors(data=fst_short_v, keys=fst_short_k)\n",
    "# fst_spacy.to_disk(NEW_VEC_BIN)\n",
    "# s = get_file_size(os.path.join(NEW_VEC_BIN, 'vectors'))\n",
    "# print(\"Chosen fasttexts in binary format weight {} MB\".format(round(s)))"
   ]
  },
  {
   "cell_type": "code",
   "execution_count": 10,
   "metadata": {},
   "outputs": [
    {
     "name": "stdout",
     "output_type": "stream",
     "text": [
      "Chosen fasttexts in txt format weight 1511 MB\n"
     ]
    }
   ],
   "source": [
    "# chosen_lines = fst.get_first_n(CHOSEN_SIZE)\n",
    "# with open(NEW_VEC_TXT, 'wb') as f:\n",
    "#     f.write(bytes(\"{} {}\\n\".format(CHOSEN_SIZE, fst.nr_dim), 'utf-8'))\n",
    "#     f.writelines(chosen_lines)\n",
    "# s = get_file_size(NEW_VEC_TXT)\n",
    "# print(\"Chosen fasttexts in txt format weight {} MB\".format(round(s)))"
   ]
  },
  {
   "cell_type": "markdown",
   "metadata": {},
   "source": [
    "## Summary\n",
    "Intersection between chosen fasttext subset and nkjp is sufficient.\n",
    "We have to take in account the size of vectors. They are already very heavy. Probably packaged models compress these vectors. When we find out we should try to enlagre the number of vectors."
   ]
  }
 ],
 "metadata": {
  "kernelspec": {
   "display_name": "Python 3",
   "language": "python",
   "name": "python3"
  },
  "language_info": {
   "codemirror_mode": {
    "name": "ipython",
    "version": 3
   },
   "file_extension": ".py",
   "mimetype": "text/x-python",
   "name": "python",
   "nbconvert_exporter": "python",
   "pygments_lexer": "ipython3",
   "version": "3.7.1"
  }
 },
 "nbformat": 4,
 "nbformat_minor": 2
}

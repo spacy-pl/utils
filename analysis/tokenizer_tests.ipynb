{
 "cells": [
  {
   "cell_type": "code",
   "execution_count": 1,
   "metadata": {
    "ExecuteTime": {
     "end_time": "2018-10-26T16:58:56.064650Z",
     "start_time": "2018-10-26T16:58:55.160562Z"
    }
   },
   "outputs": [],
   "source": [
    "import regex\n",
    "\n",
    "import spacy\n",
    "from spacy.lang.pl import Polish"
   ]
  },
  {
   "cell_type": "markdown",
   "metadata": {},
   "source": [
    "### Expected tokenizer test cases:\n",
    "- punctuation\n",
    "- abbreviation\n",
    "- number format\n",
    "\n",
    "This list was created based on existing tests for other languages."
   ]
  },
  {
   "cell_type": "code",
   "execution_count": 2,
   "metadata": {
    "ExecuteTime": {
     "end_time": "2018-10-26T16:58:56.078318Z",
     "start_time": "2018-10-26T16:58:56.068554Z"
    }
   },
   "outputs": [],
   "source": [
    "# source: https://pl.wikipedia.org/wiki/Skr%C3%B3t\n",
    "text_abbrev = \"\"\"Skrót – skrócony zapis wyrazu lub wyrażenia, zbudowany z jednej lub kilku liter (inna nazwa to: abrewiatura). Skróty zapisuje się stosownie do obowiązujących dla danego języka norm ortograficznych, przyjętych zwyczajowo konwencji pisowni dla konkretnych skrótów (różne znaczenia, wyjątki) lub w sposób swoisty dla skrótów nazw własnych – szczególnie jeśli są to skróty stosowane w odniesieniu do podmiotów gospodarczych i instytucji.\n",
    "\n",
    "W języku polskim skróty pisane są:\n",
    "\n",
    "małymi literami z kropką na końcu, jeśli skrót nie zawiera ostatniej litery skracanego wyrazu (np. inż., godz., tel., płn., ppoż., gosp.-polit., ul.) oraz w wypadku skrótów utworzonych z pierwszych liter wyrazów składających się na skracane wyrażenie, o ile żaden z tych wyrazów (poza pierwszym) nie rozpoczyna się samogłoską (np. cdn., jw., itd., itp.);\n",
    "małymi literami bez kropki na końcu, gdy skrót zawiera ostatnią literę skracanego pojedynczego wyrazu (np. bp, dr, mgr, nr, wg, z-ca, mjr, płk), chyba że skrót występuje w formie odmienionej (patrz niżej); również małymi literami bez kropki w przypadku skrótów będących symbolami matematycznymi (np. sin, log, lim), chemicznymi, międzynarodowymi oznaczeniami jednostek miar, skrótów nazw rodzimej waluty (zł i gr; skróty utworzone od nazw innych walut zamyka się kropką, np. dol., rub.) oraz ksiąg biblijnych – wszystkie te skróty są nieodmienne;\n",
    "małymi literami z kropką po każdym wyrazie, jeśli którykolwiek z kolejnych wyrazów (poza pierwszym) wchodzących w skład skrótu zaczyna się samogłoską[1] (np. p.n.e., p.o., k.o.), w przypadku skrótów złożonych z więcej niż jednej litery któregoś z członów (np. m.in., m.st., Sz.P. – w tym ostatnim duże litery stosuje się ze względów grzecznościowych) oraz w celu odróżnienia niektórych skrótów od identycznych skrótów utworzonych od innych wyrażeń (np. b.r. – „brak roku [wydania]” w odróżnieniu od br. – „bieżącego roku”), a także w wypadku kilku skrótów pisanych tradycyjnie w ten sposób (np. n.p.m.).\n",
    "Przy tworzeniu liczby mnogiej, najczęściej gdy dotyczy to tytułów osób (choć nie wyłącznie), stosuje się następujące zasady:\n",
    "\n",
    "skróty jednoliterowe podwaja się, kończąc kropką, np. spotkałem oo. paulinów („spotkałem ojców paulinów”) lub mm. nad- i podgrzebieniowy („mięśnie nad- i podgrzebieniowy”) czy pp. Kowalscy („państwo” lub „panowie”);\n",
    "skróty wieloliterowe można podwajać, np. mgr mgr Kowalski, Janiak, Michalewski, lub dodawać końcówkę -owie, np. mgrowie Kowalski, Janiak, Michalewski.\n",
    "Ponadto skróty nie podlegają regułom fleksji, z wyjątkiem skrótów pojedynczych wyrazów zawierających w skrócie ostatnią literę wyrazu – wtedy w innej formie fleksyjnej można dodać końcówkę lub postawić kropkę na końcu, np. doktor – dr, doktora – dr. lub dra[2].\n",
    "\n",
    "Oddzielną kategorię, rządzącą się odrębnymi regułami językowymi, stanowią skróty kilkuwyrazowych wyrażeń nazywane skrótowcami. Do nich należą skróty nazw własnych instytucji, organizacji, struktur politycznych, państwowych i społecznych, procedur technicznych, biznesowych, skrótowcami określanych jest wiele obiektów zainteresowania nauk ścisłych i humanistycznych – od fizyki i chemii, przez biologię, medycynę, ekonomię, po psychologię (i zapewne wielu innych).\n",
    "\"\"\""
   ]
  },
  {
   "cell_type": "code",
   "execution_count": 3,
   "metadata": {
    "ExecuteTime": {
     "end_time": "2018-10-26T16:58:56.411537Z",
     "start_time": "2018-10-26T16:58:56.374438Z"
    },
    "scrolled": true
   },
   "outputs": [
    {
     "name": "stdout",
     "output_type": "stream",
     "text": [
      "Skrót – skrócony zapis wyrazu lub wyrażenia, zbudowany z jednej lub kilku liter (inna nazwa to: abrewiatura). Skróty zapisuje się stosownie do obowiązujących dla danego języka norm ortograficznych, przyjętych zwyczajowo konwencji pisowni dla konkretnych skrótów (różne znaczenia, wyjątki) lub w sposób swoisty dla skrótów nazw własnych – szczególnie jeśli są to skróty stosowane w odniesieniu do podmiotów gospodarczych i instytucji.\n",
      "W języku polskim skróty pisane są:\n",
      "małymi literami z kropką na końcu, jeśli skrót nie zawiera ostatniej litery skracanego wyrazu (np. inż., godz., tel., płn., ppoż., gosp.-polit., ul.) oraz w wypadku skrótów utworzonych z pierwszych liter wyrazów składających się na skracane wyrażenie, o ile żaden z tych wyrazów (poza pierwszym) nie rozpoczyna się samogłoską (np. cdn., jw., itd., itp.);\n",
      "małymi literami bez kropki na końcu, gdy skrót zawiera ostatnią literę skracanego pojedynczego wyrazu (np. bp, dr, mgr, nr, wg, z-ca, mjr, płk), chyba że skrót występuje w formie odmienionej (patrz niżej); również małymi literami bez kropki w przypadku skrótów będących symbolami matematycznymi (np. sin, log, lim), chemicznymi, międzynarodowymi oznaczeniami jednostek miar, skrótów nazw rodzimej waluty (zł i gr; skróty utworzone od nazw innych walut zamyka się kropką, np. dol., rub.) oraz ksiąg biblijnych – wszystkie te skróty są nieodmienne;\n",
      "małymi literami z kropką po każdym wyrazie, jeśli którykolwiek z kolejnych wyrazów (poza pierwszym) wchodzących w skład skrótu zaczyna się samogłoską[1] (np. p.n.e., p.o., k.o.), w przypadku skrótów złożonych z więcej niż jednej litery któregoś z członów (np. m.in., m.st., Sz.P. – w tym ostatnim duże litery stosuje się ze względów grzecznościowych) oraz w celu odróżnienia niektórych skrótów od identycznych skrótów utworzonych od innych wyrażeń (np. b.r. – „brak roku [wydania]” w odróżnieniu od br. – „bieżącego roku”), a także w wypadku kilku skrótów pisanych tradycyjnie w ten sposób (np. n.p.m.).\n",
      "Przy tworzeniu liczby mnogiej, najczęściej gdy dotyczy to tytułów osób (choć nie wyłącznie), stosuje się następujące zasady:\n",
      "skróty jednoliterowe podwaja się, kończąc kropką, np. spotkałem oo. paulinów („spotkałem ojców paulinów”) lub mm. nad- i podgrzebieniowy („mięśnie nad- i podgrzebieniowy”) czy pp. Kowalscy („państwo” lub „panowie”);\n",
      "skróty wieloliterowe można podwajać, np. mgr mgr Kowalski, Janiak, Michalewski, lub dodawać końcówkę -owie, np. mgrowie Kowalski, Janiak, Michalewski.\n",
      "Ponadto skróty nie podlegają regułom fleksji, z wyjątkiem skrótów pojedynczych wyrazów zawierających w skrócie ostatnią literę wyrazu – wtedy w innej formie fleksyjnej można dodać końcówkę lub postawić kropkę na końcu, np. doktor – dr, doktora – dr. lub dra[2].\n",
      "Oddzielną kategorię, rządzącą się odrębnymi regułami językowymi, stanowią skróty kilkuwyrazowych wyrażeń nazywane skrótowcami. Do nich należą skróty nazw własnych instytucji, organizacji, struktur politycznych, państwowych i społecznych, procedur technicznych, biznesowych, skrótowcami określanych jest wiele obiektów zainteresowania nauk ścisłych i humanistycznych – od fizyki i chemii, przez biologię, medycynę, ekonomię, po psychologię (i zapewne wielu innych).\n"
     ]
    }
   ],
   "source": [
    "text_abbrev = text_abbrev.split('\\n')\n",
    "text_abbrev = [txt for txt in text_abbrev if len(txt) > 0]\n",
    "for txt in text_abbrev:\n",
    "    print(txt)"
   ]
  },
  {
   "cell_type": "code",
   "execution_count": 4,
   "metadata": {
    "ExecuteTime": {
     "end_time": "2018-10-26T16:58:57.250523Z",
     "start_time": "2018-10-26T16:58:57.245644Z"
    }
   },
   "outputs": [],
   "source": [
    "def fix(txt):    \n",
    "    txt = regex.sub('\\s+', ' ', txt)  # remove ends of lines\n",
    "    txt = regex.sub('\\[\\d+\\]', '', txt)  # remove references\n",
    "    return txt"
   ]
  },
  {
   "cell_type": "code",
   "execution_count": 5,
   "metadata": {
    "ExecuteTime": {
     "end_time": "2018-10-26T16:58:57.911825Z",
     "start_time": "2018-10-26T16:58:57.904990Z"
    }
   },
   "outputs": [],
   "source": [
    "text_abbrev = [fix(txt) for txt in text_abbrev]"
   ]
  },
  {
   "cell_type": "code",
   "execution_count": 6,
   "metadata": {
    "ExecuteTime": {
     "end_time": "2018-10-26T16:58:58.458946Z",
     "start_time": "2018-10-26T16:58:58.445276Z"
    },
    "scrolled": true
   },
   "outputs": [
    {
     "data": {
      "text/plain": [
       "['Skrót – skrócony zapis wyrazu lub wyrażenia, zbudowany z jednej lub kilku liter (inna nazwa to: abrewiatura). Skróty zapisuje się stosownie do obowiązujących dla danego języka norm ortograficznych, przyjętych zwyczajowo konwencji pisowni dla konkretnych skrótów (różne znaczenia, wyjątki) lub w sposób swoisty dla skrótów nazw własnych – szczególnie jeśli są to skróty stosowane w odniesieniu do podmiotów gospodarczych i instytucji.',\n",
       " 'W języku polskim skróty pisane są:',\n",
       " 'małymi literami z kropką na końcu, jeśli skrót nie zawiera ostatniej litery skracanego wyrazu (np. inż., godz., tel., płn., ppoż., gosp.-polit., ul.) oraz w wypadku skrótów utworzonych z pierwszych liter wyrazów składających się na skracane wyrażenie, o ile żaden z tych wyrazów (poza pierwszym) nie rozpoczyna się samogłoską (np. cdn., jw., itd., itp.);',\n",
       " 'małymi literami bez kropki na końcu, gdy skrót zawiera ostatnią literę skracanego pojedynczego wyrazu (np. bp, dr, mgr, nr, wg, z-ca, mjr, płk), chyba że skrót występuje w formie odmienionej (patrz niżej); również małymi literami bez kropki w przypadku skrótów będących symbolami matematycznymi (np. sin, log, lim), chemicznymi, międzynarodowymi oznaczeniami jednostek miar, skrótów nazw rodzimej waluty (zł i gr; skróty utworzone od nazw innych walut zamyka się kropką, np. dol., rub.) oraz ksiąg biblijnych – wszystkie te skróty są nieodmienne;',\n",
       " 'małymi literami z kropką po każdym wyrazie, jeśli którykolwiek z kolejnych wyrazów (poza pierwszym) wchodzących w skład skrótu zaczyna się samogłoską (np. p.n.e., p.o., k.o.), w przypadku skrótów złożonych z więcej niż jednej litery któregoś z członów (np. m.in., m.st., Sz.P. – w tym ostatnim duże litery stosuje się ze względów grzecznościowych) oraz w celu odróżnienia niektórych skrótów od identycznych skrótów utworzonych od innych wyrażeń (np. b.r. – „brak roku [wydania]” w odróżnieniu od br. – „bieżącego roku”), a także w wypadku kilku skrótów pisanych tradycyjnie w ten sposób (np. n.p.m.).',\n",
       " 'Przy tworzeniu liczby mnogiej, najczęściej gdy dotyczy to tytułów osób (choć nie wyłącznie), stosuje się następujące zasady:',\n",
       " 'skróty jednoliterowe podwaja się, kończąc kropką, np. spotkałem oo. paulinów („spotkałem ojców paulinów”) lub mm. nad- i podgrzebieniowy („mięśnie nad- i podgrzebieniowy”) czy pp. Kowalscy („państwo” lub „panowie”);',\n",
       " 'skróty wieloliterowe można podwajać, np. mgr mgr Kowalski, Janiak, Michalewski, lub dodawać końcówkę -owie, np. mgrowie Kowalski, Janiak, Michalewski.',\n",
       " 'Ponadto skróty nie podlegają regułom fleksji, z wyjątkiem skrótów pojedynczych wyrazów zawierających w skrócie ostatnią literę wyrazu – wtedy w innej formie fleksyjnej można dodać końcówkę lub postawić kropkę na końcu, np. doktor – dr, doktora – dr. lub dra.',\n",
       " 'Oddzielną kategorię, rządzącą się odrębnymi regułami językowymi, stanowią skróty kilkuwyrazowych wyrażeń nazywane skrótowcami. Do nich należą skróty nazw własnych instytucji, organizacji, struktur politycznych, państwowych i społecznych, procedur technicznych, biznesowych, skrótowcami określanych jest wiele obiektów zainteresowania nauk ścisłych i humanistycznych – od fizyki i chemii, przez biologię, medycynę, ekonomię, po psychologię (i zapewne wielu innych).']"
      ]
     },
     "execution_count": 6,
     "metadata": {},
     "output_type": "execute_result"
    }
   ],
   "source": [
    "text_abbrev"
   ]
  },
  {
   "cell_type": "code",
   "execution_count": 7,
   "metadata": {
    "ExecuteTime": {
     "end_time": "2018-10-26T16:58:59.230758Z",
     "start_time": "2018-10-26T16:58:59.180945Z"
    }
   },
   "outputs": [],
   "source": [
    "nlp = Polish()"
   ]
  },
  {
   "cell_type": "markdown",
   "metadata": {},
   "source": [
    "There is no way of generating accurate tests other than manual checks of tokenizer performance.\n",
    "We will try using the tokenizer on each of the texts to see how it performs, and manually extract badly tokenized \n",
    "samples to `test_cases` dict."
   ]
  },
  {
   "cell_type": "code",
   "execution_count": 8,
   "metadata": {
    "ExecuteTime": {
     "end_time": "2018-10-26T16:59:00.264674Z",
     "start_time": "2018-10-26T16:59:00.260773Z"
    }
   },
   "outputs": [],
   "source": [
    "test_cases = {}"
   ]
  },
  {
   "cell_type": "code",
   "execution_count": 9,
   "metadata": {
    "ExecuteTime": {
     "end_time": "2018-10-26T16:59:00.717341Z",
     "start_time": "2018-10-26T16:59:00.711482Z"
    }
   },
   "outputs": [],
   "source": [
    "def tokenize(txt):\n",
    "    for token in nlp(txt):\n",
    "        print(token)"
   ]
  },
  {
   "cell_type": "code",
   "execution_count": 10,
   "metadata": {
    "ExecuteTime": {
     "end_time": "2018-10-26T16:59:01.408586Z",
     "start_time": "2018-10-26T16:59:01.250420Z"
    },
    "scrolled": true
   },
   "outputs": [
    {
     "name": "stdout",
     "output_type": "stream",
     "text": [
      "Skrót\n",
      "–\n",
      "skrócony\n",
      "zapis\n",
      "wyrazu\n",
      "lub\n",
      "wyrażenia\n",
      ",\n",
      "zbudowany\n",
      "z\n",
      "jednej\n",
      "lub\n",
      "kilku\n",
      "liter\n",
      "(\n",
      "inna\n",
      "nazwa\n",
      "to\n",
      ":\n",
      "abrewiatura\n",
      ")\n",
      ".\n",
      "Skróty\n",
      "zapisuje\n",
      "się\n",
      "stosownie\n",
      "do\n",
      "obowiązujących\n",
      "dla\n",
      "danego\n",
      "języka\n",
      "norm\n",
      "ortograficznych\n",
      ",\n",
      "przyjętych\n",
      "zwyczajowo\n",
      "konwencji\n",
      "pisowni\n",
      "dla\n",
      "konkretnych\n",
      "skrótów\n",
      "(\n",
      "różne\n",
      "znaczenia\n",
      ",\n",
      "wyjątki\n",
      ")\n",
      "lub\n",
      "w\n",
      "sposób\n",
      "swoisty\n",
      "dla\n",
      "skrótów\n",
      "nazw\n",
      "własnych\n",
      "–\n",
      "szczególnie\n",
      "jeśli\n",
      "są\n",
      "to\n",
      "skróty\n",
      "stosowane\n",
      "w\n",
      "odniesieniu\n",
      "do\n",
      "podmiotów\n",
      "gospodarczych\n",
      "i\n",
      "instytucji\n",
      ".\n"
     ]
    }
   ],
   "source": [
    "# this is how we examine tokenization results\n",
    "tokenize(text_abbrev[0])"
   ]
  },
  {
   "cell_type": "code",
   "execution_count": 11,
   "metadata": {
    "ExecuteTime": {
     "end_time": "2018-10-26T16:59:03.205861Z",
     "start_time": "2018-10-26T16:59:03.200982Z"
    }
   },
   "outputs": [],
   "source": [
    "test_cases['with_dot_at_the_end'] = set([\n",
    "    'inż.',\n",
    "    'godz.',\n",
    "    'tel.',\n",
    "    'płn',\n",
    "    'ppoż',\n",
    "    'gosp.-polit.',\n",
    "    'ul.',\n",
    "    'np.',\n",
    "    'cdn.',\n",
    "    'jw.',\n",
    "    'itd.',\n",
    "    'itp.',\n",
    "])"
   ]
  },
  {
   "cell_type": "code",
   "execution_count": 12,
   "metadata": {
    "ExecuteTime": {
     "end_time": "2018-10-26T16:59:04.076991Z",
     "start_time": "2018-10-26T16:59:04.071150Z"
    }
   },
   "outputs": [],
   "source": [
    "test_cases['no_dot_at_the_end'] = set([\n",
    "    'bp',\n",
    "    'dr',\n",
    "    'mgr',\n",
    "    'nr',\n",
    "    'wg',\n",
    "    'z-ca',\n",
    "    'mjr',\n",
    "    'płk',\n",
    "    'sin',\n",
    "    'log',\n",
    "    'lim'\n",
    "])"
   ]
  },
  {
   "cell_type": "code",
   "execution_count": 13,
   "metadata": {
    "ExecuteTime": {
     "end_time": "2018-10-26T16:59:04.843430Z",
     "start_time": "2018-10-26T16:59:04.838547Z"
    }
   },
   "outputs": [],
   "source": [
    "test_cases['money_specific'] = set([\n",
    "    'zł',\n",
    "    'gr',\n",
    "    'dol.',\n",
    "    'rub.'\n",
    "])"
   ]
  },
  {
   "cell_type": "code",
   "execution_count": 14,
   "metadata": {
    "ExecuteTime": {
     "end_time": "2018-10-26T16:59:05.485868Z",
     "start_time": "2018-10-26T16:59:05.480986Z"
    }
   },
   "outputs": [],
   "source": [
    "test_cases['multi_letter'] = set([\n",
    "    'p.n.e.',\n",
    "    'p.o.',\n",
    "    'k.o.',\n",
    "    'm.in.',\n",
    "    'm.st.',\n",
    "    'Sz.P.',\n",
    "    'n.p.m.'\n",
    "])"
   ]
  },
  {
   "cell_type": "code",
   "execution_count": 15,
   "metadata": {
    "ExecuteTime": {
     "end_time": "2018-10-26T16:59:06.222242Z",
     "start_time": "2018-10-26T16:59:06.218345Z"
    }
   },
   "outputs": [],
   "source": [
    "test_cases['plural'] = set([\n",
    "    'oo.',\n",
    "    'pp.',\n",
    "    'dra.'\n",
    "])"
   ]
  },
  {
   "cell_type": "markdown",
   "metadata": {},
   "source": [
    "In spaCy, the default tokenizer often has problems with worlds containing hyphens (-), we need to test this too:"
   ]
  },
  {
   "cell_type": "code",
   "execution_count": 16,
   "metadata": {
    "ExecuteTime": {
     "end_time": "2018-10-26T16:59:07.359967Z",
     "start_time": "2018-10-26T16:59:07.356061Z"
    }
   },
   "outputs": [],
   "source": [
    "# source: https://pl.wikipedia.org/wiki/Tetrahydrokannabinol\n",
    "text_chemicals = \"5-fluoropentylo-3-pirydynyloindol 5F-PB-22 A-796260 A-834735 A-836339 A-955840 AB-001 AB-FUBINACA AB-PINACA ADB-FUBINACA ADBICA AM-1248 AM-1714 APINACA AZ-11713908 BAY-38-7271 BAY-59-3074 CB-13 CB-86 CBS-0550 GW-842166X JWH-176 JTE-7-31 kannabidiol nietypowy LASSBio-881 LBP-1 leelamina MDA-7 MDA-19 NESS-040C5 NMP-7 O-889 O-1269 O-1270 O-1399 O-1602 O-2220 Org-28312 Org-28611 PF-03550096 PSB-SB-1202 QUCHIC QUPIC S-444823 SDB-001 (2NE1) SDB-006 SER-601 STS-135 tedalinab UR-12 (MN-25) UR-144 URB-447 VSN-16 WIN-56098 XLR-11\""
   ]
  },
  {
   "cell_type": "code",
   "execution_count": 17,
   "metadata": {
    "ExecuteTime": {
     "end_time": "2018-10-26T16:59:08.167068Z",
     "start_time": "2018-10-26T16:59:08.000116Z"
    },
    "scrolled": true
   },
   "outputs": [
    {
     "name": "stdout",
     "output_type": "stream",
     "text": [
      "5-fluoropentylo-3-pirydynyloindol\n",
      "5F\n",
      "-\n",
      "PB-22\n",
      "A-796260\n",
      "A-834735\n",
      "A-836339\n",
      "A-955840\n",
      "AB-001\n",
      "AB\n",
      "-\n",
      "FUBINACA\n",
      "AB\n",
      "-\n",
      "PINACA\n",
      "ADB\n",
      "-\n",
      "FUBINACA\n",
      "ADBICA\n",
      "AM-1248\n",
      "AM-1714\n",
      "APINACA\n",
      "AZ-11713908\n",
      "BAY-38\n",
      "-\n",
      "7271\n",
      "BAY-59\n",
      "-\n",
      "3074\n",
      "CB-13\n",
      "CB-86\n",
      "CBS-0550\n",
      "GW-842166X\n",
      "JWH-176\n",
      "JTE-7\n",
      "-\n",
      "31\n",
      "kannabidiol\n",
      "nietypowy\n",
      "LASSBio-881\n",
      "LBP-1\n",
      "leelamina\n",
      "MDA-7\n",
      "MDA-19\n",
      "NESS-040C5\n",
      "NMP-7\n",
      "O-889\n",
      "O-1269\n",
      "O-1270\n",
      "O-1399\n",
      "O-1602\n",
      "O-2220\n",
      "Org-28312\n",
      "Org-28611\n",
      "PF-03550096\n",
      "PSB\n",
      "-\n",
      "SB-1202\n",
      "QUCHIC\n",
      "QUPIC\n",
      "S-444823\n",
      "SDB-001\n",
      "(\n",
      "2NE1\n",
      ")\n",
      "SDB-006\n",
      "SER-601\n",
      "STS-135\n",
      "tedalinab\n",
      "UR-12\n",
      "(\n",
      "MN-25\n",
      ")\n",
      "UR-144\n",
      "URB-447\n",
      "VSN-16\n",
      "WIN-56098\n",
      "XLR-11\n"
     ]
    }
   ],
   "source": [
    "for token in nlp(text_chemicals):\n",
    "    print(token)"
   ]
  },
  {
   "cell_type": "code",
   "execution_count": 18,
   "metadata": {
    "ExecuteTime": {
     "end_time": "2018-10-26T16:59:09.296790Z",
     "start_time": "2018-10-26T16:59:09.290951Z"
    }
   },
   "outputs": [],
   "source": [
    "test_cases['hyphens'] = set([\n",
    "    '5F-PB-22',\n",
    "    '5-fluoropentylo-3-pirydynyloindol',\n",
    "    'JTE-7-31',\n",
    "    'BAY-38-7271',\n",
    "    'BAY-59-3074',\n",
    "    'NESS-040C5',\n",
    "    'STS-135'\n",
    "])"
   ]
  },
  {
   "cell_type": "code",
   "execution_count": 19,
   "metadata": {
    "ExecuteTime": {
     "end_time": "2018-10-26T16:59:09.880390Z",
     "start_time": "2018-10-26T16:59:09.875505Z"
    }
   },
   "outputs": [],
   "source": [
    "text_prefix = \"Dach dwu- czy cztero spadowy?\""
   ]
  },
  {
   "cell_type": "code",
   "execution_count": 20,
   "metadata": {
    "ExecuteTime": {
     "end_time": "2018-10-26T16:59:10.254926Z",
     "start_time": "2018-10-26T16:59:10.235402Z"
    }
   },
   "outputs": [
    {
     "name": "stdout",
     "output_type": "stream",
     "text": [
      "Dach\n",
      "dwu-\n",
      "czy\n",
      "cztero\n",
      "spadowy\n",
      "?\n"
     ]
    }
   ],
   "source": [
    "tokenize(text_prefix)"
   ]
  },
  {
   "cell_type": "markdown",
   "metadata": {},
   "source": [
    "This was tokenized correctly but I belive it is still important to add such test case."
   ]
  },
  {
   "cell_type": "code",
   "execution_count": 21,
   "metadata": {
    "ExecuteTime": {
     "end_time": "2018-10-26T16:59:11.651932Z",
     "start_time": "2018-10-26T16:59:11.647049Z"
    }
   },
   "outputs": [],
   "source": [
    "test_cases['prefixes'] = set([\n",
    "    'jedno-',\n",
    "    'dwu-',\n",
    "    'trzy-',\n",
    "    'cztero-'\n",
    "])"
   ]
  },
  {
   "cell_type": "code",
   "execution_count": 22,
   "metadata": {
    "ExecuteTime": {
     "end_time": "2018-10-26T16:59:12.177161Z",
     "start_time": "2018-10-26T16:59:12.171302Z"
    }
   },
   "outputs": [],
   "source": [
    "text_other = [\n",
    "    '21,- zł',\n",
    "    '37 cm3',\n",
    "    'godz. 21:37',\n",
    "    'E L I T A R N Y MIMUW',\n",
    "    'b-adoratorzy',\n",
    "    '2-3-4 drzewa',\n",
    "    'b-drzewa',\n",
    "    'Polska „A” i „B”',\n",
    "    'Biul. OBR Pleszew, Masz. dla Przetw. Płodów Rol.'\n",
    "]"
   ]
  },
  {
   "cell_type": "markdown",
   "metadata": {},
   "source": [
    "Sources:\n",
    "- http://smurf.mimuw.edu.pl\n",
    "- https://facebook.com/elitarnymimuw\n",
    "- http://www.slownikskrotow.pl/post/view/2105OPUv70qlBB.html"
   ]
  },
  {
   "cell_type": "code",
   "execution_count": 23,
   "metadata": {
    "ExecuteTime": {
     "end_time": "2018-10-26T16:59:13.789771Z",
     "start_time": "2018-10-26T16:59:13.671654Z"
    },
    "scrolled": true
   },
   "outputs": [
    {
     "name": "stdout",
     "output_type": "stream",
     "text": [
      "21,-\n",
      "zł\n",
      "37\n",
      "cm3\n",
      "godz\n",
      ".\n",
      "21:37\n",
      "E\n",
      "L\n",
      "I\n",
      "T\n",
      "A\n",
      "R\n",
      "N\n",
      "Y\n",
      "MIMUW\n",
      "b\n",
      "-\n",
      "adoratorzy\n",
      "2\n",
      "-\n",
      "3\n",
      "-\n",
      "4\n",
      "drzewa\n",
      "b\n",
      "-\n",
      "drzewa\n",
      "Polska\n",
      "„\n",
      "A\n",
      "”\n",
      "i\n",
      "„\n",
      "B\n",
      "”\n",
      "Biul\n",
      ".\n",
      "OBR\n",
      "Pleszew\n",
      ",\n",
      "Masz\n",
      ".\n",
      "dla\n",
      "Przetw\n",
      ".\n",
      "Płodów\n",
      "Rol\n",
      ".\n"
     ]
    }
   ],
   "source": [
    "for txt in text_other:\n",
    "    tokenize(txt)"
   ]
  },
  {
   "cell_type": "code",
   "execution_count": 24,
   "metadata": {
    "ExecuteTime": {
     "end_time": "2018-10-26T16:59:14.201630Z",
     "start_time": "2018-10-26T16:59:14.197723Z"
    }
   },
   "outputs": [],
   "source": [
    "tests = {}"
   ]
  },
  {
   "cell_type": "markdown",
   "metadata": {},
   "source": [
    "We will now convert all of our test cases int spacy test case format, tests with `texts_other` will be added later, manually."
   ]
  },
  {
   "cell_type": "code",
   "execution_count": 25,
   "metadata": {
    "ExecuteTime": {
     "end_time": "2018-10-26T16:59:15.612765Z",
     "start_time": "2018-10-26T16:59:15.605933Z"
    }
   },
   "outputs": [],
   "source": [
    "for test_kind in test_cases:\n",
    "    for test_word in test_cases[test_kind]:\n",
    "        try:\n",
    "            tests[test_kind].append((test_word, [test_word]))\n",
    "        except KeyError:\n",
    "            tests[test_kind] = [(test_word, [test_word])]"
   ]
  },
  {
   "cell_type": "code",
   "execution_count": 26,
   "metadata": {
    "ExecuteTime": {
     "end_time": "2018-10-26T16:59:16.544847Z",
     "start_time": "2018-10-26T16:59:16.536059Z"
    }
   },
   "outputs": [
    {
     "data": {
      "text/plain": [
       "{'with_dot_at_the_end': [('płn', ['płn']),\n",
       "  ('itp.', ['itp.']),\n",
       "  ('gosp.-polit.', ['gosp.-polit.']),\n",
       "  ('tel.', ['tel.']),\n",
       "  ('inż.', ['inż.']),\n",
       "  ('np.', ['np.']),\n",
       "  ('jw.', ['jw.']),\n",
       "  ('godz.', ['godz.']),\n",
       "  ('itd.', ['itd.']),\n",
       "  ('ppoż', ['ppoż']),\n",
       "  ('cdn.', ['cdn.']),\n",
       "  ('ul.', ['ul.'])],\n",
       " 'no_dot_at_the_end': [('mgr', ['mgr']),\n",
       "  ('nr', ['nr']),\n",
       "  ('mjr', ['mjr']),\n",
       "  ('log', ['log']),\n",
       "  ('dr', ['dr']),\n",
       "  ('wg', ['wg']),\n",
       "  ('płk', ['płk']),\n",
       "  ('bp', ['bp']),\n",
       "  ('sin', ['sin']),\n",
       "  ('z-ca', ['z-ca']),\n",
       "  ('lim', ['lim'])],\n",
       " 'money_specific': [('gr', ['gr']),\n",
       "  ('dol.', ['dol.']),\n",
       "  ('zł', ['zł']),\n",
       "  ('rub.', ['rub.'])],\n",
       " 'multi_letter': [('n.p.m.', ['n.p.m.']),\n",
       "  ('Sz.P.', ['Sz.P.']),\n",
       "  ('m.in.', ['m.in.']),\n",
       "  ('p.n.e.', ['p.n.e.']),\n",
       "  ('p.o.', ['p.o.']),\n",
       "  ('k.o.', ['k.o.']),\n",
       "  ('m.st.', ['m.st.'])],\n",
       " 'plural': [('dra.', ['dra.']), ('oo.', ['oo.']), ('pp.', ['pp.'])],\n",
       " 'hyphens': [('BAY-59-3074', ['BAY-59-3074']),\n",
       "  ('NESS-040C5', ['NESS-040C5']),\n",
       "  ('5-fluoropentylo-3-pirydynyloindol', ['5-fluoropentylo-3-pirydynyloindol']),\n",
       "  ('BAY-38-7271', ['BAY-38-7271']),\n",
       "  ('JTE-7-31', ['JTE-7-31']),\n",
       "  ('STS-135', ['STS-135']),\n",
       "  ('5F-PB-22', ['5F-PB-22'])],\n",
       " 'prefixes': [('dwu-', ['dwu-']),\n",
       "  ('cztero-', ['cztero-']),\n",
       "  ('trzy-', ['trzy-']),\n",
       "  ('jedno-', ['jedno-'])]}"
      ]
     },
     "execution_count": 26,
     "metadata": {},
     "output_type": "execute_result"
    }
   ],
   "source": [
    "tests"
   ]
  }
 ],
 "metadata": {
  "anaconda-cloud": {},
  "kernelspec": {
   "display_name": "Python [conda env:anaconda3]",
   "language": "python",
   "name": "conda-env-anaconda3-py"
  },
  "language_info": {
   "codemirror_mode": {
    "name": "ipython",
    "version": 3
   },
   "file_extension": ".py",
   "mimetype": "text/x-python",
   "name": "python",
   "nbconvert_exporter": "python",
   "pygments_lexer": "ipython3",
   "version": "3.6.4"
  },
  "toc": {
   "base_numbering": 1,
   "nav_menu": {},
   "number_sections": false,
   "sideBar": false,
   "skip_h1_title": false,
   "title_cell": "Table of Contents",
   "title_sidebar": "Contents",
   "toc_cell": false,
   "toc_position": {},
   "toc_section_display": false,
   "toc_window_display": false
  }
 },
 "nbformat": 4,
 "nbformat_minor": 2
}

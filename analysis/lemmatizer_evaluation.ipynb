{
 "cells": [
  {
   "cell_type": "code",
   "execution_count": 74,
   "metadata": {},
   "outputs": [
    {
     "name": "stdout",
     "output_type": "stream",
     "text": [
      "Collecting conll-df\n",
      "  Downloading https://files.pythonhosted.org/packages/eb/fe/a562090ef7651a00f2696aa384279724ed1f6f90f1b2b5e7a98fb9bb151f/conll_df-0.0.4.tar.gz\n",
      "Requirement already satisfied: pandas>=0.19.2 in /home/stanislaw/anaconda3/lib/python3.6/site-packages (from conll-df) (0.23.4)\n",
      "Requirement already satisfied: pytz>=2011k in /home/stanislaw/anaconda3/lib/python3.6/site-packages (from pandas>=0.19.2->conll-df) (2017.3)\n",
      "Requirement already satisfied: numpy>=1.9.0 in /home/stanislaw/anaconda3/lib/python3.6/site-packages (from pandas>=0.19.2->conll-df) (1.16.2)\n",
      "Requirement already satisfied: python-dateutil>=2.5.0 in /home/stanislaw/anaconda3/lib/python3.6/site-packages (from pandas>=0.19.2->conll-df) (2.6.1)\n",
      "Requirement already satisfied: six>=1.5 in /home/stanislaw/anaconda3/lib/python3.6/site-packages (from python-dateutil>=2.5.0->pandas>=0.19.2->conll-df) (1.11.0)\n",
      "Building wheels for collected packages: conll-df\n",
      "  Running setup.py bdist_wheel for conll-df ... \u001b[?25lerror\n",
      "  Complete output from command /home/stanislaw/anaconda3/bin/python -u -c \"import setuptools, tokenize;__file__='/tmp/pip-install-z995cruc/conll-df/setup.py';f=getattr(tokenize, 'open', open)(__file__);code=f.read().replace('\\r\\n', '\\n');f.close();exec(compile(code, __file__, 'exec'))\" bdist_wheel -d /tmp/pip-wheel-yhoxhezt --python-tag cp36:\n",
      "  running bdist_wheel\n",
      "  running build\n",
      "  running build_py\n",
      "  creating build\n",
      "  creating build/lib\n",
      "  creating build/lib/conll_df\n",
      "  copying conll_df/__init__.py -> build/lib/conll_df\n",
      "  copying conll_df/conll_df.py -> build/lib/conll_df\n",
      "  installing to build/bdist.linux-x86_64/wheel\n",
      "  running install\n",
      "  running install_lib\n",
      "  creating build/bdist.linux-x86_64\n",
      "  creating build/bdist.linux-x86_64/wheel\n",
      "  creating build/bdist.linux-x86_64/wheel/conll_df\n",
      "  copying build/lib/conll_df/__init__.py -> build/bdist.linux-x86_64/wheel/conll_df\n",
      "  copying build/lib/conll_df/conll_df.py -> build/bdist.linux-x86_64/wheel/conll_df\n",
      "  running install_egg_info\n",
      "  running egg_info\n",
      "  writing conll_df.egg-info/PKG-INFO\n",
      "  writing dependency_links to conll_df.egg-info/dependency_links.txt\n",
      "  writing requirements to conll_df.egg-info/requires.txt\n",
      "  writing top-level names to conll_df.egg-info/top_level.txt\n",
      "  reading manifest file 'conll_df.egg-info/SOURCES.txt'\n",
      "  writing manifest file 'conll_df.egg-info/SOURCES.txt'\n",
      "  Copying conll_df.egg-info to build/bdist.linux-x86_64/wheel/conll_df-0.0.4-py3.6.egg-info\n",
      "  running install_scripts\n",
      "  error: [Errno 2] No such file or directory: 'LICENSE'\n",
      "  \n",
      "  ----------------------------------------\n",
      "\u001b[31m  Failed building wheel for conll-df\u001b[0m\n",
      "\u001b[?25h  Running setup.py clean for conll-df\n",
      "Failed to build conll-df\n",
      "Installing collected packages: conll-df\n",
      "  Running setup.py install for conll-df ... \u001b[?25ldone\n",
      "\u001b[?25hSuccessfully installed conll-df-0.0.4\n",
      "\u001b[33mYou are using pip version 18.1, however version 19.0.3 is available.\n",
      "You should consider upgrading via the 'pip install --upgrade pip' command.\u001b[0m\n"
     ]
    }
   ],
   "source": [
    "!pip install conll-df"
   ]
  },
  {
   "cell_type": "code",
   "execution_count": 10,
   "metadata": {},
   "outputs": [],
   "source": [
    "import spacy\n",
    "from tqdm import tqdm"
   ]
  },
  {
   "cell_type": "code",
   "execution_count": 2,
   "metadata": {},
   "outputs": [],
   "source": [
    "import pandas as pd\n",
    "from conll_df import conll_df"
   ]
  },
  {
   "cell_type": "code",
   "execution_count": 3,
   "metadata": {},
   "outputs": [],
   "source": [
    "nlp=spacy.load('../models/pos_NKJP_word2vec/model-final/')"
   ]
  },
  {
   "cell_type": "code",
   "execution_count": 8,
   "metadata": {},
   "outputs": [],
   "source": [
    "path='../data/dependency_trees/UD_Polish-LFG-master/pl_lfg-ud-train.conllu'"
   ]
  },
  {
   "cell_type": "code",
   "execution_count": 88,
   "metadata": {},
   "outputs": [],
   "source": [
    "df=conll_df(path, skip_meta=True)"
   ]
  },
  {
   "cell_type": "code",
   "execution_count": 91,
   "metadata": {},
   "outputs": [],
   "source": [
    "df=df[['w','l']]"
   ]
  },
  {
   "cell_type": "code",
   "execution_count": 119,
   "metadata": {},
   "outputs": [],
   "source": [
    "for i,g in df.groupby(level=1):\n",
    "    break"
   ]
  },
  {
   "cell_type": "code",
   "execution_count": 128,
   "metadata": {},
   "outputs": [
    {
     "data": {
      "text/html": [
       "<div>\n",
       "<style scoped>\n",
       "    .dataframe tbody tr th:only-of-type {\n",
       "        vertical-align: middle;\n",
       "    }\n",
       "\n",
       "    .dataframe tbody tr th {\n",
       "        vertical-align: top;\n",
       "    }\n",
       "\n",
       "    .dataframe thead th {\n",
       "        text-align: right;\n",
       "    }\n",
       "</style>\n",
       "<table border=\"1\" class=\"dataframe\">\n",
       "  <thead>\n",
       "    <tr style=\"text-align: right;\">\n",
       "      <th></th>\n",
       "      <th></th>\n",
       "      <th></th>\n",
       "      <th>w</th>\n",
       "      <th>l</th>\n",
       "    </tr>\n",
       "    <tr>\n",
       "      <th>file</th>\n",
       "      <th>s</th>\n",
       "      <th>i</th>\n",
       "      <th></th>\n",
       "      <th></th>\n",
       "    </tr>\n",
       "  </thead>\n",
       "  <tbody>\n",
       "    <tr>\n",
       "      <th rowspan=\"5\" valign=\"top\">pl_lfg-ud-train.conllu</th>\n",
       "      <th rowspan=\"5\" valign=\"top\">1</th>\n",
       "      <th>1</th>\n",
       "      <td>100-tysięcznym</td>\n",
       "      <td>100-tysięczny</td>\n",
       "    </tr>\n",
       "    <tr>\n",
       "      <th>2</th>\n",
       "      <td>Grudziądzem</td>\n",
       "      <td>Grudziądz</td>\n",
       "    </tr>\n",
       "    <tr>\n",
       "      <th>3</th>\n",
       "      <td>rządzi</td>\n",
       "      <td>rządzić</td>\n",
       "    </tr>\n",
       "    <tr>\n",
       "      <th>4</th>\n",
       "      <td>lewica</td>\n",
       "      <td>lewica</td>\n",
       "    </tr>\n",
       "    <tr>\n",
       "      <th>5</th>\n",
       "      <td>.</td>\n",
       "      <td>.</td>\n",
       "    </tr>\n",
       "  </tbody>\n",
       "</table>\n",
       "</div>"
      ],
      "text/plain": [
       "                                         w              l\n",
       "file                   s i                               \n",
       "pl_lfg-ud-train.conllu 1 1  100-tysięcznym  100-tysięczny\n",
       "                         2     Grudziądzem      Grudziądz\n",
       "                         3          rządzi        rządzić\n",
       "                         4          lewica         lewica\n",
       "                         5               .              ."
      ]
     },
     "execution_count": 128,
     "metadata": {},
     "output_type": "execute_result"
    }
   ],
   "source": [
    "g"
   ]
  },
  {
   "cell_type": "code",
   "execution_count": 132,
   "metadata": {},
   "outputs": [
    {
     "data": {
      "text/plain": [
       "'100-tysięcznym Grudziądzem rządzi lewica .'"
      ]
     },
     "execution_count": 132,
     "metadata": {},
     "output_type": "execute_result"
    }
   ],
   "source": [
    "orth_tokens=list(g.w)\n",
    "lemma_tokens=list(g.l)\n",
    "\n",
    "sent=' '.join(orth_tokens)\n",
    "sent"
   ]
  },
  {
   "cell_type": "code",
   "execution_count": 127,
   "metadata": {},
   "outputs": [
    {
     "data": {
      "text/plain": [
       "'100-tysięcznym Grudziądzem rządzi lewica .'"
      ]
     },
     "execution_count": 127,
     "metadata": {},
     "output_type": "execute_result"
    }
   ],
   "source": [
    "sent"
   ]
  },
  {
   "cell_type": "code",
   "execution_count": 129,
   "metadata": {},
   "outputs": [],
   "source": [
    "analysed_sent=nlp(sent)"
   ]
  },
  {
   "cell_type": "code",
   "execution_count": 137,
   "metadata": {},
   "outputs": [
    {
     "name": "stdout",
     "output_type": "stream",
     "text": [
      "100-tysięczny 100-tysięcznym\n",
      "Grudziądz Grudziądzem\n",
      "rządzić rządzi\n",
      "lewica lewica\n",
      ". .\n"
     ]
    }
   ],
   "source": [
    "for token, orth, lemma in zip(analysed_sent, orth_tokens, lemma_tokens):\n",
    "    print(lemma, token.lemma_)"
   ]
  },
  {
   "cell_type": "code",
   "execution_count": 140,
   "metadata": {},
   "outputs": [
    {
     "data": {
      "text/plain": [
       "5"
      ]
     },
     "execution_count": 140,
     "metadata": {},
     "output_type": "execute_result"
    }
   ],
   "source": [
    "len(analysed_sent)"
   ]
  },
  {
   "cell_type": "code",
   "execution_count": 141,
   "metadata": {},
   "outputs": [
    {
     "data": {
      "text/plain": [
       "5"
      ]
     },
     "execution_count": 141,
     "metadata": {},
     "output_type": "execute_result"
    }
   ],
   "source": [
    "len(lemma_tokens)"
   ]
  },
  {
   "cell_type": "code",
   "execution_count": 34,
   "metadata": {},
   "outputs": [],
   "source": [
    "def count_matching_lemmas(analysed_sentence, true_lemmas):\n",
    "    if len(analysed_sentence) != len(true_lemmas):\n",
    "        raise Exception(f'{len(analysed_sentence)} not equals {len(true_lemmas)}')\n",
    "    score=0\n",
    "    for token, lemma in zip(analysed_sentence, true_lemmas):\n",
    "        if(token.lemma_==lemma):\n",
    "            score+=1\n",
    "            \n",
    "    return score"
   ]
  },
  {
   "cell_type": "code",
   "execution_count": 38,
   "metadata": {},
   "outputs": [],
   "source": [
    "def load_lemmas_df(path):\n",
    "    df=conll_df(path, skip_meta=True)\n",
    "    df=df[['w','l']]\n",
    "    return df"
   ]
  },
  {
   "cell_type": "code",
   "execution_count": 41,
   "metadata": {},
   "outputs": [],
   "source": [
    "mismatch_indexes=[]\n",
    "\n",
    "def evaluate_lemmas(data_path, nlp):\n",
    "    word_count=0\n",
    "    match_count=0\n",
    "\n",
    "    df = load_lemmas_df(data_path)\n",
    "    for index, sentence_group in tqdm(df.groupby(level=1)):\n",
    "        orth_tokens = list(sentence_group.w)\n",
    "        lemma_tokens = list(sentence_group.l)\n",
    "        sent = ' '.join(orth_tokens)\n",
    "        analysed_sent = nlp(sent)\n",
    "        try:\n",
    "            current_match = count_matching_lemmas(analysed_sent, lemma_tokens)\n",
    "            word_count += len(orth_tokens)\n",
    "            match_count += current_match\n",
    "        except:\n",
    "            mismatch_indexes.append(index)\n",
    "        \n",
    "    return match_count / word_count"
   ]
  },
  {
   "cell_type": "code",
   "execution_count": 42,
   "metadata": {},
   "outputs": [
    {
     "name": "stderr",
     "output_type": "stream",
     "text": [
      "100%|██████████| 13774/13774 [01:23<00:00, 165.30it/s]\n"
     ]
    },
    {
     "data": {
      "text/plain": [
       "0.5023166578732793"
      ]
     },
     "execution_count": 42,
     "metadata": {},
     "output_type": "execute_result"
    }
   ],
   "source": [
    "evaluate_lemmas(path, nlp)"
   ]
  }
 ],
 "metadata": {
  "kernelspec": {
   "display_name": "Python [conda env:anaconda3]",
   "language": "python",
   "name": "conda-env-anaconda3-py"
  },
  "language_info": {
   "codemirror_mode": {
    "name": "ipython",
    "version": 3
   },
   "file_extension": ".py",
   "mimetype": "text/x-python",
   "name": "python",
   "nbconvert_exporter": "python",
   "pygments_lexer": "ipython3",
   "version": "3.6.4"
  },
  "toc": {
   "base_numbering": 1,
   "nav_menu": {},
   "number_sections": false,
   "sideBar": false,
   "skip_h1_title": false,
   "title_cell": "Table of Contents",
   "title_sidebar": "Contents",
   "toc_cell": false,
   "toc_position": {},
   "toc_section_display": false,
   "toc_window_display": false
  }
 },
 "nbformat": 4,
 "nbformat_minor": 2
}

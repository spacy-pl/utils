{
 "cells": [
  {
   "cell_type": "code",
   "execution_count": 62,
   "metadata": {},
   "outputs": [],
   "source": [
    "import requests"
   ]
  },
  {
   "cell_type": "markdown",
   "metadata": {},
   "source": [
    "## Do zbadania:\n",
    "* jakie są kryteria ilościowe SW w spacy, czy istnieją, jakie są referencyjne liczby z innych języków (relatywnie do wielkośći języka)\n",
    "* wyliczenie SW z NKJP, porównanie z tymi listami"
   ]
  },
  {
   "cell_type": "markdown",
   "metadata": {},
   "source": [
    "### Existing list\n",
    "Wzięte stąd: https://www.ranks.nl/stopwords/polish"
   ]
  },
  {
   "cell_type": "code",
   "execution_count": 60,
   "metadata": {},
   "outputs": [],
   "source": [
    "sw = set(\"\"\"\n",
    "ach aj albo\n",
    "bardzo bez bo być\n",
    "ci cię ciebie co czy\n",
    "daleko dla dlaczego dlatego do dobrze dokąd dość dużo dwa dwaj dwie dwoje dziś\n",
    "dzisiaj\n",
    "gdyby gdzie\n",
    "go\n",
    "ich ile im inny\n",
    "ja ją jak jakby jaki je jeden jedna jedno jego jej jemu jeśli jest jestem\n",
    "jeżeli już\n",
    "każdy kiedy kierunku kto ku\n",
    "lub\n",
    "ma mają mam mi mną mnie moi mój moja moje może mu my\n",
    "na nam nami nas nasi nasz nasza nasze natychmiast nią nic nich nie niego niej\n",
    "niemu nigdy nim nimi niż\n",
    "obok od około on ona one oni ono owszem\n",
    "po pod ponieważ przed przedtem\n",
    "są sam sama się skąd\n",
    "tak taki tam ten to tobą tobie tu tutaj twoi twój twoja twoje ty\n",
    "wam wami was wasi wasz wasza wasze we więc wszystko wtedy wy\n",
    "żaden zawsze że\n",
    "\"\"\".split())"
   ]
  },
  {
   "cell_type": "code",
   "execution_count": 7,
   "metadata": {},
   "outputs": [
    {
     "data": {
      "text/plain": [
       "138"
      ]
     },
     "execution_count": 7,
     "metadata": {},
     "output_type": "execute_result"
    }
   ],
   "source": [
    "len(sw)"
   ]
  },
  {
   "cell_type": "markdown",
   "metadata": {},
   "source": [
    "#### Bieli\n",
    "https://github.com/bieli/stopwords/blob/master/polish.stopwords.txt"
   ]
  },
  {
   "cell_type": "code",
   "execution_count": 63,
   "metadata": {},
   "outputs": [],
   "source": [
    "r=requests.get(\"https://raw.githubusercontent.com/bieli/stopwords/master/polish.stopwords.txt\")\n",
    "sw2=set(r.content.decode().split('\\n')[:-1])"
   ]
  },
  {
   "cell_type": "code",
   "execution_count": 64,
   "metadata": {},
   "outputs": [
    {
     "data": {
      "text/plain": [
       "350"
      ]
     },
     "execution_count": 64,
     "metadata": {},
     "output_type": "execute_result"
    }
   ],
   "source": [
    "len(sw2)"
   ]
  },
  {
   "cell_type": "markdown",
   "metadata": {},
   "source": [
    "#### Wikipedia\n",
    "https://pl.wikipedia.org/wiki/Wikipedia:Stopwords"
   ]
  },
  {
   "cell_type": "code",
   "execution_count": 93,
   "metadata": {},
   "outputs": [],
   "source": [
    "sw3=set(\"a, aby, ach, acz, aczkolwiek, aj, albo, ale, ależ, ani, aż, bardziej, bardzo, bo, bowiem, by, byli, bynajmniej, być, był, była, było, były, będzie, będą, cali, cała, cały, ci, cię, ciebie, co, cokolwiek, coś, czasami, czasem, czemu, czy, czyli, daleko, dla, dlaczego, dlatego, do, dobrze, dokąd, dość, dużo, dwa, dwaj, dwie, dwoje, dziś, dzisiaj, gdy, gdyby, gdyż, gdzie, gdziekolwiek, gdzieś, i, ich, ile, im, inna, inne, inny, innych, iż, ja, ją, jak, jaka, jakaś, jakby, jaki, jakichś, jakie, jakiś, jakiż, jakkolwiek, jako, jakoś, je, jeden, jedna, jedno, jednak, jednakże, jego, jej, jemu, jest, jestem, jeszcze, jeśli, jeżeli, już, ją, każdy, kiedy, kilka, kimś, kto, ktokolwiek, ktoś, która, które, którego, której, który, których, którym, którzy, ku, lat, lecz, lub, ma, mają, mało, mam, mi, mimo, między, mną, mnie, mogą, moi, moim, moja, moje, może, możliwe, można, mój, mu, musi, my, na, nad, nam, nami, nas, nasi, nasz, nasza, nasze, naszego, naszych, natomiast, natychmiast, nawet, nią, nic, nich, nie, niech, niego, niej, niemu, nigdy, nim, nimi, niż, no, o, obok, od, około, on, ona, one, oni, ono, oraz, oto, owszem, pan, pana, pani, po, pod, podczas, pomimo, ponad, ponieważ, powinien, powinna, powinni, powinno, poza, prawie, przecież, przed, przede, przedtem, przez, przy, roku, również, sama, są, się, skąd, sobie, sobą, sposób, swoje, ta, tak, taka, taki, takie, także, tam, te, tego, tej, temu, ten, teraz, też, to, tobą, tobie, toteż, trzeba, tu, tutaj, twoi, twoim, twoja, twoje, twym, twój, ty, tych, tylko, tym, u, w, wam, wami, was, wasz, wasza, wasze, we, według, wiele, wielu, więc, więcej, wszyscy, wszystkich, wszystkie, wszystkim, wszystko, wtedy, wy, właśnie, z, za, zapewne, zawsze, ze, zł, znowu, znów, został, żaden, żadna, żadne, żadnych, że, żeby\".split(\", \"))"
   ]
  },
  {
   "cell_type": "code",
   "execution_count": 94,
   "metadata": {},
   "outputs": [
    {
     "data": {
      "text/plain": [
       "276"
      ]
     },
     "execution_count": 94,
     "metadata": {},
     "output_type": "execute_result"
    }
   ],
   "source": [
    "len(sw3)"
   ]
  },
  {
   "cell_type": "markdown",
   "metadata": {},
   "source": [
    "#### Stopwords ISO\n",
    "Nie ma standardu ISO dla stop wordsów, nazwa repo jest myląca\n",
    "https://github.com/stopwords-iso/stopwords-pl"
   ]
  },
  {
   "cell_type": "code",
   "execution_count": 67,
   "metadata": {},
   "outputs": [],
   "source": [
    "r=requests.get(\"https://raw.githubusercontent.com/stopwords-iso/stopwords-pl/master/stopwords-pl.txt\")\n",
    "sw4=set(r.content.decode().split('\\n')[:-1])"
   ]
  },
  {
   "cell_type": "code",
   "execution_count": 68,
   "metadata": {},
   "outputs": [
    {
     "data": {
      "text/plain": [
       "328"
      ]
     },
     "execution_count": 68,
     "metadata": {},
     "output_type": "execute_result"
    }
   ],
   "source": [
    "len(sw4)"
   ]
  },
  {
   "cell_type": "markdown",
   "metadata": {},
   "source": [
    "# Listy stop-słów z innych języków w spaCy"
   ]
  },
  {
   "cell_type": "code",
   "execution_count": 10,
   "metadata": {},
   "outputs": [],
   "source": [
    "from spacy.lang import en, de, fr, es"
   ]
  },
  {
   "cell_type": "code",
   "execution_count": 6,
   "metadata": {},
   "outputs": [
    {
     "data": {
      "text/plain": [
       "305"
      ]
     },
     "execution_count": 6,
     "metadata": {},
     "output_type": "execute_result"
    }
   ],
   "source": [
    "len(en.STOP_WORDS)"
   ]
  },
  {
   "cell_type": "code",
   "execution_count": 7,
   "metadata": {},
   "outputs": [
    {
     "data": {
      "text/plain": [
       "543"
      ]
     },
     "execution_count": 7,
     "metadata": {},
     "output_type": "execute_result"
    }
   ],
   "source": [
    "len(de.STOP_WORDS)"
   ]
  },
  {
   "cell_type": "code",
   "execution_count": 8,
   "metadata": {},
   "outputs": [
    {
     "data": {
      "text/plain": [
       "602"
      ]
     },
     "execution_count": 8,
     "metadata": {},
     "output_type": "execute_result"
    }
   ],
   "source": [
    "len(fr.STOP_WORDS)"
   ]
  },
  {
   "cell_type": "code",
   "execution_count": 11,
   "metadata": {},
   "outputs": [
    {
     "data": {
      "text/plain": [
       "551"
      ]
     },
     "execution_count": 11,
     "metadata": {},
     "output_type": "execute_result"
    }
   ],
   "source": [
    "len(es.STOP_WORDS)"
   ]
  },
  {
   "cell_type": "markdown",
   "metadata": {},
   "source": [
    "#### Są dłuższe niż dla angielskiego, co jest sensowne patrząc na liczbę słów w tych językach. "
   ]
  },
  {
   "cell_type": "markdown",
   "metadata": {},
   "source": [
    "# Sprawdźmy jak wygląda 500 najczęstszych tokenów w NKJP"
   ]
  },
  {
   "cell_type": "code",
   "execution_count": null,
   "metadata": {},
   "outputs": [],
   "source": [
    "nkjp=CategorizedTaggedCorpusReader('NKJP_1.2_nltk', '.*', cat_file='../sample_types.txt')\n",
    "freq=nltk.FreqDist([word.lower() for word in nkjp.words()])\n",
    "#get most common words\n",
    "nkjp_cw=set([p[0] for p in freq.most_common()[:500]])\n",
    "#plot words distribution\n",
    "plt.plot([pair[1] for pair in freq.most_common()[:100]])"
   ]
  },
  {
   "cell_type": "code",
   "execution_count": 58,
   "metadata": {},
   "outputs": [
    {
     "data": {
      "text/plain": [
       "{'!',\n",
       " '\"',\n",
       " '%',\n",
       " '(',\n",
       " ')',\n",
       " ',',\n",
       " '-',\n",
       " '.',\n",
       " '/',\n",
       " '1',\n",
       " '10',\n",
       " '12',\n",
       " '15',\n",
       " '2',\n",
       " '20',\n",
       " '3',\n",
       " '30',\n",
       " '4',\n",
       " '5',\n",
       " '6',\n",
       " '7',\n",
       " '8',\n",
       " ':',\n",
       " ';',\n",
       " '?',\n",
       " 'a',\n",
       " 'aby',\n",
       " 'akcji',\n",
       " 'albo',\n",
       " 'ale',\n",
       " 'andrzej',\n",
       " 'ani',\n",
       " 'art',\n",
       " 'aż',\n",
       " 'bardziej',\n",
       " 'bardzo',\n",
       " 'bez',\n",
       " 'bo',\n",
       " 'bowiem',\n",
       " 'brak',\n",
       " 'by',\n",
       " 'byli',\n",
       " 'być',\n",
       " 'był',\n",
       " 'była',\n",
       " 'było',\n",
       " 'były',\n",
       " 'będzie',\n",
       " 'będziemy',\n",
       " 'będą',\n",
       " 'będę',\n",
       " 'cały',\n",
       " 'celu',\n",
       " 'centrum',\n",
       " 'chce',\n",
       " 'chciał',\n",
       " 'chciała',\n",
       " 'chociaż',\n",
       " 'chodzi',\n",
       " 'choć',\n",
       " 'chwili',\n",
       " 'chwilę',\n",
       " 'chyba',\n",
       " 'ci',\n",
       " 'ciebie',\n",
       " 'ciągu',\n",
       " 'cię',\n",
       " 'co',\n",
       " 'coraz',\n",
       " 'coś',\n",
       " 'czas',\n",
       " 'czasem',\n",
       " 'czasie',\n",
       " 'czasu',\n",
       " 'czego',\n",
       " 'cztery',\n",
       " 'czy',\n",
       " 'czyli',\n",
       " 'czym',\n",
       " 'często',\n",
       " 'części',\n",
       " 'część',\n",
       " 'człowiek',\n",
       " 'człowieka',\n",
       " 'dalej',\n",
       " 'dla',\n",
       " 'dlaczego',\n",
       " 'dlatego',\n",
       " 'dni',\n",
       " 'dnia',\n",
       " 'do',\n",
       " 'dobrze',\n",
       " 'domu',\n",
       " 'dopiero',\n",
       " 'dość',\n",
       " 'drodze',\n",
       " 'drugi',\n",
       " 'drugiej',\n",
       " 'drzwi',\n",
       " 'dużo',\n",
       " 'dwa',\n",
       " 'dwie',\n",
       " 'dwóch',\n",
       " 'dzieci',\n",
       " 'dziecko',\n",
       " 'dzień',\n",
       " 'dzisiaj',\n",
       " 'dzięki',\n",
       " 'dziękuję',\n",
       " 'dziś',\n",
       " 'długo',\n",
       " 'em',\n",
       " 'eś',\n",
       " 'firmy',\n",
       " 'gdy',\n",
       " 'gdyby',\n",
       " 'gdzie',\n",
       " 'gdzieś',\n",
       " 'gminy',\n",
       " 'go',\n",
       " 'godz',\n",
       " 'głos',\n",
       " 'i',\n",
       " 'ich',\n",
       " 'ii',\n",
       " 'ile',\n",
       " 'im',\n",
       " 'inaczej',\n",
       " 'informacji',\n",
       " 'inne',\n",
       " 'innych',\n",
       " 'iż',\n",
       " 'ja',\n",
       " 'jak',\n",
       " 'jakby',\n",
       " 'jaki',\n",
       " 'jakie',\n",
       " 'jakieś',\n",
       " 'jakiś',\n",
       " 'jako',\n",
       " 'je',\n",
       " 'jeden',\n",
       " 'jedna',\n",
       " 'jednak',\n",
       " 'jednego',\n",
       " 'jednej',\n",
       " 'jedno',\n",
       " 'jednym',\n",
       " 'jedynie',\n",
       " 'jego',\n",
       " 'jej',\n",
       " 'jest',\n",
       " 'jestem',\n",
       " 'jesteś',\n",
       " 'jesteśmy',\n",
       " 'jeszcze',\n",
       " 'jeśli',\n",
       " 'jeżeli',\n",
       " 'już',\n",
       " 'ją',\n",
       " 'każdy',\n",
       " 'kiedy',\n",
       " 'kiedyś',\n",
       " 'kilka',\n",
       " 'kilku',\n",
       " 'km',\n",
       " 'kobiety',\n",
       " 'komisji',\n",
       " 'koniec',\n",
       " 'końca',\n",
       " 'końcu',\n",
       " 'kraju',\n",
       " 'kto',\n",
       " 'ktoś',\n",
       " 'która',\n",
       " 'które',\n",
       " 'którego',\n",
       " 'której',\n",
       " 'który',\n",
       " 'których',\n",
       " 'którym',\n",
       " 'którzy',\n",
       " 'którą',\n",
       " 'kultury',\n",
       " 'l',\n",
       " 'lat',\n",
       " 'lata',\n",
       " 'latach',\n",
       " 'lecz',\n",
       " 'lepiej',\n",
       " 'lub',\n",
       " 'ludzi',\n",
       " 'ludzie',\n",
       " 'm',\n",
       " 'm.in',\n",
       " 'ma',\n",
       " 'mają',\n",
       " 'mam',\n",
       " 'mamy',\n",
       " 'masz',\n",
       " 'mało',\n",
       " 'mi',\n",
       " 'miasta',\n",
       " 'miał',\n",
       " 'miała',\n",
       " 'miejsca',\n",
       " 'miejsce',\n",
       " 'miejscu',\n",
       " 'mieli',\n",
       " 'mieć',\n",
       " 'mimo',\n",
       " 'minister',\n",
       " 'między',\n",
       " 'mln',\n",
       " 'mnie',\n",
       " 'mniej',\n",
       " 'mogli',\n",
       " 'mogą',\n",
       " 'mogę',\n",
       " 'mogła',\n",
       " 'moje',\n",
       " 'mowa',\n",
       " 'może',\n",
       " 'możemy',\n",
       " 'można',\n",
       " 'mu',\n",
       " 'musi',\n",
       " 'my',\n",
       " 'myśli',\n",
       " 'myślę',\n",
       " 'mógł',\n",
       " 'mój',\n",
       " 'mówi',\n",
       " 'mówię',\n",
       " 'mówił',\n",
       " 'na',\n",
       " 'nad',\n",
       " 'nadal',\n",
       " 'nagle',\n",
       " 'najbardziej',\n",
       " 'należy',\n",
       " 'nam',\n",
       " 'naprawdę',\n",
       " 'nas',\n",
       " 'nasze',\n",
       " 'naszej',\n",
       " 'naszych',\n",
       " 'natomiast',\n",
       " 'nawet',\n",
       " 'nic',\n",
       " 'nich',\n",
       " 'nie',\n",
       " 'niech',\n",
       " 'niego',\n",
       " 'niej',\n",
       " 'niestety',\n",
       " 'nigdy',\n",
       " 'nikt',\n",
       " 'nim',\n",
       " 'nią',\n",
       " 'niż',\n",
       " 'no',\n",
       " 'nocy',\n",
       " 'nowe',\n",
       " 'nowego',\n",
       " 'nowy',\n",
       " 'np',\n",
       " 'nr',\n",
       " 'o',\n",
       " 'obecnie',\n",
       " 'obok',\n",
       " 'oczy',\n",
       " 'oczywiście',\n",
       " 'od',\n",
       " 'ogóle',\n",
       " 'ojciec',\n",
       " 'ok',\n",
       " 'około',\n",
       " 'on',\n",
       " 'ona',\n",
       " 'one',\n",
       " 'oni',\n",
       " 'oraz',\n",
       " 'osoby',\n",
       " 'osób',\n",
       " 'pan',\n",
       " 'pana',\n",
       " 'pani',\n",
       " 'panie',\n",
       " 'partii',\n",
       " 'państwa',\n",
       " 'pewnie',\n",
       " 'pewno',\n",
       " 'pieniądze',\n",
       " 'pieniędzy',\n",
       " 'pierwsze',\n",
       " 'pierwszy',\n",
       " 'pierwszym',\n",
       " 'po',\n",
       " 'początku',\n",
       " 'pod',\n",
       " 'podczas',\n",
       " 'policji',\n",
       " 'polsce',\n",
       " 'polska',\n",
       " 'polski',\n",
       " 'polskich',\n",
       " 'polskiego',\n",
       " 'polskiej',\n",
       " 'pomocy',\n",
       " 'ponad',\n",
       " 'ponieważ',\n",
       " 'poseł',\n",
       " 'potem',\n",
       " 'powiedział',\n",
       " 'powiedziała',\n",
       " 'powiedzieć',\n",
       " 'powinien',\n",
       " 'powodu',\n",
       " 'poza',\n",
       " 'pracy',\n",
       " 'prawa',\n",
       " 'prawda',\n",
       " 'prawie',\n",
       " 'prawo',\n",
       " 'prezydent',\n",
       " 'prezydenta',\n",
       " 'proc',\n",
       " 'program',\n",
       " 'prostu',\n",
       " 'proszę',\n",
       " 'przecież',\n",
       " 'przeciw',\n",
       " 'przeciwko',\n",
       " 'przed',\n",
       " 'przede',\n",
       " 'przez',\n",
       " 'przy',\n",
       " 'przykład',\n",
       " 'przypadku',\n",
       " 'pytanie',\n",
       " 'później',\n",
       " 'r',\n",
       " 'raczej',\n",
       " 'rady',\n",
       " 'raz',\n",
       " 'razem',\n",
       " 'razie',\n",
       " 'razy',\n",
       " 'rok',\n",
       " 'roku',\n",
       " 'rzecz',\n",
       " 'rzeczy',\n",
       " 'rząd',\n",
       " 'również',\n",
       " 'różnych',\n",
       " 'ręce',\n",
       " 's',\n",
       " 'sam',\n",
       " 'samo',\n",
       " 'samym',\n",
       " 'siebie',\n",
       " 'się',\n",
       " 'sld',\n",
       " 'sobie',\n",
       " 'sobą',\n",
       " 'sposób',\n",
       " 'spraw',\n",
       " 'sprawa',\n",
       " 'sprawie',\n",
       " 'sprawy',\n",
       " 'stanie',\n",
       " 'strony',\n",
       " 'swoich',\n",
       " 'swoim',\n",
       " 'swoje',\n",
       " 'swojej',\n",
       " 'swoją',\n",
       " 'swój',\n",
       " 'sytuacji',\n",
       " 'szkoły',\n",
       " 'szybko',\n",
       " 'są',\n",
       " 'sąd',\n",
       " 'słowa',\n",
       " 'ta',\n",
       " 'tak',\n",
       " 'taka',\n",
       " 'taki',\n",
       " 'takich',\n",
       " 'takie',\n",
       " 'takiego',\n",
       " 'takim',\n",
       " 'taką',\n",
       " 'także',\n",
       " 'tam',\n",
       " 'te',\n",
       " 'tego',\n",
       " 'tej',\n",
       " 'temat',\n",
       " 'temu',\n",
       " 'ten',\n",
       " 'teraz',\n",
       " 'też',\n",
       " 'to',\n",
       " 'trochę',\n",
       " 'trudno',\n",
       " 'trzeba',\n",
       " 'trzech',\n",
       " 'trzy',\n",
       " 'tu',\n",
       " 'tutaj',\n",
       " 'ty',\n",
       " 'tych',\n",
       " 'tyle',\n",
       " 'tylko',\n",
       " 'tym',\n",
       " 'tys',\n",
       " 'tysięcy',\n",
       " 'tzw',\n",
       " 'tą',\n",
       " 'tę',\n",
       " 'u',\n",
       " 'udało',\n",
       " 'udział',\n",
       " 'ul',\n",
       " 'ust',\n",
       " 'ustawy',\n",
       " 'uwagę',\n",
       " 'w',\n",
       " 'warszawie',\n",
       " 'wcześniej',\n",
       " 'wczoraj',\n",
       " 'we',\n",
       " 'według',\n",
       " 'wiadomo',\n",
       " 'widać',\n",
       " 'wie',\n",
       " 'wieku',\n",
       " 'wiele',\n",
       " 'wielu',\n",
       " 'wiem',\n",
       " 'wiesz',\n",
       " 'więc',\n",
       " 'więcej',\n",
       " 'większość',\n",
       " 'wniosek',\n",
       " 'wobec',\n",
       " 'wraz',\n",
       " 'wreszcie',\n",
       " 'wszyscy',\n",
       " 'wszystkich',\n",
       " 'wszystkie',\n",
       " 'wszystkim',\n",
       " 'wszystko',\n",
       " 'wtedy',\n",
       " 'wydaje',\n",
       " 'wówczas',\n",
       " 'właśnie',\n",
       " 'wśród',\n",
       " 'yyy',\n",
       " 'z',\n",
       " 'za',\n",
       " 'zaraz',\n",
       " 'zawsze',\n",
       " 'zaś',\n",
       " 'zbyt',\n",
       " 'zdaniem',\n",
       " 'zdrowia',\n",
       " 'ze',\n",
       " 'zgodnie',\n",
       " 'ziemi',\n",
       " 'znaczy',\n",
       " 'znowu',\n",
       " 'zostanie',\n",
       " 'został',\n",
       " 'została',\n",
       " 'zostały',\n",
       " 'zresztą',\n",
       " 'zrobić',\n",
       " 'zupełnie',\n",
       " 'związku',\n",
       " 'zwłaszcza',\n",
       " 'zł',\n",
       " 'złotych',\n",
       " 'ś',\n",
       " 'śmierci',\n",
       " 'śmy',\n",
       " 'świat',\n",
       " 'świata',\n",
       " 'świecie',\n",
       " 'że',\n",
       " 'żeby',\n",
       " 'życia',\n",
       " 'życie',\n",
       " 'życiu',\n",
       " '–',\n",
       " '—',\n",
       " '”',\n",
       " '„'}"
      ]
     },
     "execution_count": 58,
     "metadata": {},
     "output_type": "execute_result"
    }
   ],
   "source": [
    "nkjp_cw"
   ]
  },
  {
   "cell_type": "markdown",
   "metadata": {},
   "source": [
    "##### Dużo znaków interpunkcyjnych. Zobaczmy ile słów spoza 500 najpopularniejszych zawierają listy które znelźliśmy. Przyjąłem założenie że mało słów z 500 najpopularniejszych to wyższa jakość listy (ponieważ wymaga więcej ręcznej pracy)"
   ]
  },
  {
   "cell_type": "code",
   "execution_count": 105,
   "metadata": {},
   "outputs": [
    {
     "name": "stdout",
     "output_type": "stream",
     "text": [
      "500\n",
      "138 40\n",
      "350 146\n",
      "276 75\n",
      "328 99\n"
     ]
    }
   ],
   "source": [
    "print(len(nkjp_cw))\n",
    "print(len(sw), len(sw-nkjp_cw))\n",
    "print(len(sw2), len(sw2-nkjp_cw))\n",
    "print(len(sw3), len(sw3-nkjp_cw))\n",
    "print(len(sw4), len(sw4-nkjp_cw))"
   ]
  },
  {
   "cell_type": "markdown",
   "metadata": {},
   "source": [
    "### Ile słów których nie ma w nowych listach zawiera lista obecna w spaCy?"
   ]
  },
  {
   "cell_type": "code",
   "execution_count": 106,
   "metadata": {},
   "outputs": [
    {
     "name": "stdout",
     "output_type": "stream",
     "text": [
      "2\n",
      "5\n",
      "0\n"
     ]
    }
   ],
   "source": [
    "for s_w in [sw2,sw3,sw4]:\n",
    "    print(len(sw-s_w))"
   ]
  },
  {
   "cell_type": "markdown",
   "metadata": {},
   "source": [
    "### Co to za słowa?"
   ]
  },
  {
   "cell_type": "code",
   "execution_count": 109,
   "metadata": {},
   "outputs": [
    {
     "name": "stdout",
     "output_type": "stream",
     "text": [
      "{'kierunku', 'wasi'}\n",
      "{'sam', 'bez', 'wasi', 'kierunku', 'go'}\n"
     ]
    }
   ],
   "source": [
    "print(sw-sw2)\n",
    "print(sw-sw3)"
   ]
  },
  {
   "cell_type": "markdown",
   "metadata": {},
   "source": [
    "### Różnice i podobieństwa między listami"
   ]
  },
  {
   "cell_type": "code",
   "execution_count": 111,
   "metadata": {},
   "outputs": [
    {
     "data": {
      "text/plain": [
       "76"
      ]
     },
     "execution_count": 111,
     "metadata": {},
     "output_type": "execute_result"
    }
   ],
   "source": [
    "len(sw2-sw3)"
   ]
  },
  {
   "cell_type": "code",
   "execution_count": 112,
   "metadata": {},
   "outputs": [
    {
     "data": {
      "text/plain": [
       "72"
      ]
     },
     "execution_count": 112,
     "metadata": {},
     "output_type": "execute_result"
    }
   ],
   "source": [
    "len(sw2-sw4)"
   ]
  },
  {
   "cell_type": "code",
   "execution_count": 119,
   "metadata": {},
   "outputs": [
    {
     "name": "stdout",
     "output_type": "stream",
     "text": [
      "401\n"
     ]
    }
   ],
   "source": [
    "print(len(sw2|sw3|sw4))"
   ]
  },
  {
   "cell_type": "code",
   "execution_count": 120,
   "metadata": {},
   "outputs": [
    {
     "name": "stdout",
     "output_type": "stream",
     "text": [
      "352\n"
     ]
    }
   ],
   "source": [
    "print(len(sw2|sw3))"
   ]
  },
  {
   "cell_type": "code",
   "execution_count": 121,
   "metadata": {},
   "outputs": [
    {
     "name": "stdout",
     "output_type": "stream",
     "text": [
      "400\n"
     ]
    }
   ],
   "source": [
    "print(len(sw2|sw4))"
   ]
  },
  {
   "cell_type": "code",
   "execution_count": 124,
   "metadata": {},
   "outputs": [
    {
     "data": {
      "text/plain": [
       "set()"
      ]
     },
     "execution_count": 124,
     "metadata": {},
     "output_type": "execute_result"
    }
   ],
   "source": [
    "sw-(sw2|sw4)"
   ]
  },
  {
   "cell_type": "markdown",
   "metadata": {},
   "source": [
    "# Konkluzja\n",
    "Nowa lista z połączenia bieli SW i ISO SW list."
   ]
  }
 ],
 "metadata": {
  "celltoolbar": "Edit Metadata",
  "kernelspec": {
   "display_name": "Python [default]",
   "language": "python",
   "name": "python3"
  },
  "language_info": {
   "codemirror_mode": {
    "name": "ipython",
    "version": 3
   },
   "file_extension": ".py",
   "mimetype": "text/x-python",
   "name": "python",
   "nbconvert_exporter": "python",
   "pygments_lexer": "ipython3",
   "version": "3.6.4"
  }
 },
 "nbformat": 4,
 "nbformat_minor": 2
}

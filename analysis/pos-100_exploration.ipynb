{
 "cells": [
  {
   "cell_type": "code",
   "execution_count": 12,
   "metadata": {},
   "outputs": [],
   "source": [
    "import utils\n",
    "import pandas as pd\n",
    "from matplotlib import pyplot as plt"
   ]
  },
  {
   "cell_type": "code",
   "execution_count": 2,
   "metadata": {},
   "outputs": [],
   "source": [
    "df=utils.load_spacy_to_pandas('../data/training/pos-100/pos-train.json')"
   ]
  },
  {
   "cell_type": "code",
   "execution_count": 3,
   "metadata": {},
   "outputs": [
    {
     "data": {
      "text/plain": [
       "(537931, 4)"
      ]
     },
     "execution_count": 3,
     "metadata": {},
     "output_type": "execute_result"
    }
   ],
   "source": [
    "df.shape"
   ]
  },
  {
   "cell_type": "code",
   "execution_count": 4,
   "metadata": {},
   "outputs": [],
   "source": [
    "df2=utils.load_spacy_to_pandas('../data/training/pos-100/pos-test.json')"
   ]
  },
  {
   "cell_type": "code",
   "execution_count": 5,
   "metadata": {},
   "outputs": [
    {
     "data": {
      "text/plain": [
       "(338157, 4)"
      ]
     },
     "execution_count": 5,
     "metadata": {},
     "output_type": "execute_result"
    }
   ],
   "source": [
    "df2.shape"
   ]
  },
  {
   "cell_type": "code",
   "execution_count": 6,
   "metadata": {},
   "outputs": [],
   "source": [
    "df3=utils.load_spacy_to_pandas('../data/training/pos-100/pos-validation.json')"
   ]
  },
  {
   "cell_type": "code",
   "execution_count": 7,
   "metadata": {},
   "outputs": [
    {
     "data": {
      "text/plain": [
       "(339425, 4)"
      ]
     },
     "execution_count": 7,
     "metadata": {},
     "output_type": "execute_result"
    }
   ],
   "source": [
    "df3.shape"
   ]
  },
  {
   "cell_type": "code",
   "execution_count": 8,
   "metadata": {},
   "outputs": [
    {
     "data": {
      "text/plain": [
       "1215513"
      ]
     },
     "execution_count": 8,
     "metadata": {},
     "output_type": "execute_result"
    }
   ],
   "source": [
    "df.shape[0]+df2.shape[0]+df3.shape[0]"
   ]
  },
  {
   "cell_type": "markdown",
   "metadata": {},
   "source": [
    "## Distinct tags\n"
   ]
  },
  {
   "cell_type": "code",
   "execution_count": 9,
   "metadata": {},
   "outputs": [
    {
     "data": {
      "text/plain": [
       "426"
      ]
     },
     "execution_count": 9,
     "metadata": {},
     "output_type": "execute_result"
    }
   ],
   "source": [
    "tags=list(df['tag'].drop_duplicates())\n",
    "len(tags)"
   ]
  },
  {
   "cell_type": "code",
   "execution_count": 10,
   "metadata": {},
   "outputs": [
    {
     "data": {
      "text/plain": [
       "tag\n",
       "ADJ:PL:DAT:N:SUP                       1\n",
       "WINIEN:SG:M2:IMPERF                    1\n",
       "NUM:SG:NOM:M3:REC                      1\n",
       "ADJ:SG:ACC:M2:SUP                      1\n",
       "PPRON3:SG:DAT:N:TER:AKC:NPRAEP         1\n",
       "PPRON3:SG:DAT:M3:TER:AKC:PRAEP         1\n",
       "WINIEN:IMPERF                          1\n",
       "PPRON12:SG:M2:SEC:NAKC                 1\n",
       "PRAET:SG:F:IMPERF:NAGL                 2\n",
       "PACT:SG:DAT:N:IMPERF:AFF               2\n",
       "SUBST:SG:VOC:M2                        2\n",
       "NUM:SG:NOM:N:REC                       2\n",
       "PACT:PL:DAT:N:IMPERF:AFF               3\n",
       "PPRON3:PL:INST:M3:TER:AKC:PRAEP        3\n",
       "NUMCOL:PL:GEN:M1:REC                   4\n",
       "BEDZIE:IMPERF                          4\n",
       "ADJ:SG:INST:M1:SUP                     6\n",
       "ADJ:SG:GEN:M1:COM                      6\n",
       "DEPR:PL:M2                             6\n",
       "PPRON3:SG:INST:N:TER:AKC:PRAEP         7\n",
       "ADJ:SG:LOC:N:COM                       8\n",
       "PACT:SG:NOM:M2:IMPERF:AFF              9\n",
       "WINIEN:PL:N:IMPERF                    12\n",
       "QUB:WOK                               12\n",
       "NUMCOL:PL:ACC:N:REC                   13\n",
       "PPRON12:SG:INST:F:PRI                 14\n",
       "NUMCOL:PL:NOM:M1:REC                  17\n",
       "PPAS:PL:GEN:M1:IMPERF:AFF             18\n",
       "PACT:NOM:M2:IMPERF:AFF                18\n",
       "PPAS:PL:ACC:M1:PERF:AFF               18\n",
       "                                   ...  \n",
       "ADJ:SG:GEN:F:POS                    4408\n",
       "SUBST:PL:GEN:M3                     4434\n",
       "ADJ:SG:NOM:F:POS                    4450\n",
       "INF:PERF                            4516\n",
       "PREP:INST:NWOK                      4646\n",
       "SUBST:SG:ACC:N                      4711\n",
       "PRAET:SG:M1:PERF                    4787\n",
       "SUBST:SG:NOM:N                      5416\n",
       "SUBST:SG:LOC:F                      5418\n",
       "SUBST:SG:GEN:N                      6006\n",
       "SUBST:SG:ACC:M3                     6055\n",
       "PREP:GEN:NWOK                       6128\n",
       "SUBST:SG:LOC:M3                     6249\n",
       "SUBST:SG:ACC:F                      6753\n",
       "SUBST:SG:NOM:M3                     6839\n",
       "PREP:LOC                            7231\n",
       "PREP:ACC                            7457\n",
       "COMP                                7653\n",
       "ADV                                 7744\n",
       "PREP:GEN                            7868\n",
       "ADV:POS                             9501\n",
       "SUBST:SG:NOM:F                      9917\n",
       "SUBST:SG:NOM:M1                     9926\n",
       "SUBST:SG:GEN:M3                    10346\n",
       "PREP:LOC:NWOK                      12005\n",
       "FIN:SG:TER:IMPERF                  12718\n",
       "SUBST:SG:GEN:F                     13197\n",
       "CONJ                               20221\n",
       "QUB                                30367\n",
       "INTERP                             98736\n",
       "Name: orth, Length: 426, dtype: int64"
      ]
     },
     "execution_count": 10,
     "metadata": {},
     "output_type": "execute_result"
    }
   ],
   "source": [
    "tag_count = df.groupby('tag').count().orth\n",
    "tag_count.sort_values()"
   ]
  },
  {
   "cell_type": "markdown",
   "metadata": {},
   "source": [
    "Very big classes (e.g. QUB) are made in merging tags"
   ]
  },
  {
   "cell_type": "markdown",
   "metadata": {},
   "source": [
    "# As you can see, there are many tags with count below 100"
   ]
  },
  {
   "cell_type": "code",
   "execution_count": 14,
   "metadata": {},
   "outputs": [
    {
     "data": {
      "text/plain": [
       "tag\n",
       "ADJ:PL:DAT:N:SUP                    2\n",
       "ADJ:PL:GEN:M1:SUP                  66\n",
       "ADJ:PL:SUP                         51\n",
       "ADJ:SG:ACC:M2:SUP                   3\n",
       "ADJ:SG:ACC:N                       49\n",
       "ADJ:SG:GEN:M1:COM                  11\n",
       "ADJ:SG:INST:M1:SUP                 36\n",
       "ADJ:SG:LOC:N:COM                   26\n",
       "ADJC                               88\n",
       "BEDZIE:IMPERF                      19\n",
       "DEPR:PL:M2                          8\n",
       "FIN:SEC                            61\n",
       "GER:SG:INST:N:PERF:NEG              2\n",
       "NUM:PL:ACC:M2:CONGR                47\n",
       "NUM:PL:ACC:N:CONGR                 87\n",
       "NUM:SG:NOM:M3:REC                   3\n",
       "NUM:SG:NOM:N:REC                    2\n",
       "NUMCOL:PL:ACC:N:REC                17\n",
       "NUMCOL:PL:GEN:M1:CONGR              1\n",
       "NUMCOL:PL:GEN:M1:REC                8\n",
       "NUMCOL:PL:NOM:M1:REC               43\n",
       "NUMCOL:PL:REC                      62\n",
       "PACT:NOM:M2:IMPERF:AFF             39\n",
       "PACT:PL:ACC:IMPERF:AFF             70\n",
       "PACT:PL:DAT:N:IMPERF:AFF            6\n",
       "PACT:SG:DAT:N:IMPERF:AFF            4\n",
       "PACT:SG:LOC:M3:IMPERF:AFF          65\n",
       "PACT:SG:NOM:M2:IMPERF:AFF          17\n",
       "PPAS:LOC:M3:PERF:AFF               87\n",
       "PPAS:PL:ACC:M1:PERF:AFF            31\n",
       "PPAS:PL:GEN:IMPERF:AFF             70\n",
       "PPAS:PL:GEN:M1:IMPERF:AFF          45\n",
       "PPAS:PL:INST:M3:PERF:AFF           39\n",
       "PPAS:SG:LOC:M2:IMPERF:AFF           1\n",
       "PPAS:SG:LOC:N:PERF:AFF             78\n",
       "PPAS:SG:N:IMPERF:AFF               79\n",
       "PPAS:SG:N:PERF:AFF                 91\n",
       "PPRON12:SG:ACC:F:SEC:NAKC          77\n",
       "PPRON12:SG:F                       74\n",
       "PPRON12:SG:GEN:PRI:AKC             95\n",
       "PPRON12:SG:INST:F:PRI              36\n",
       "PPRON12:SG:M2:SEC:NAKC              7\n",
       "PPRON12:SG:M3:PRI                   3\n",
       "PPRON3:PL:INST:M3:TER:AKC:PRAEP    12\n",
       "PPRON3:SG:DAT:M3:TER:AKC:PRAEP      2\n",
       "PPRON3:SG:DAT:N:TER:AKC:NPRAEP      1\n",
       "PPRON3:SG:INST:N:TER:AKC:PRAEP      9\n",
       "PPRON3:SG:NOM:F:TER:AKC:PRAEP       1\n",
       "PPRON3:SG:TER:NAKC:NPRAEP          92\n",
       "PRAET:IMPERF:AGL                   91\n",
       "PRAET:SG:F:IMPERF:NAGL              2\n",
       "QUB:NWOK                           35\n",
       "QUB:WOK                            31\n",
       "SUBST:SG:VOC:M2                    11\n",
       "WINIEN:IMPERF                       1\n",
       "WINIEN:PL:M3:IMPERF                47\n",
       "WINIEN:PL:N:IMPERF                 27\n",
       "WINIEN:SG:M2:IMPERF                 2\n",
       "WINIEN:SG:M3:IMPERF                82\n",
       "Name: orth, dtype: int64"
      ]
     },
     "execution_count": 14,
     "metadata": {},
     "output_type": "execute_result"
    }
   ],
   "source": [
    "big_df = pd.concat([df, df2, df3])\n",
    "\n",
    "tag_count = big_df.groupby('tag').count().orth\n",
    "tag_count[tag_count<100]"
   ]
  },
  {
   "cell_type": "code",
   "execution_count": 13,
   "metadata": {},
   "outputs": [],
   "source": [
    "df['lower']=df['orth'].str.lower()"
   ]
  },
  {
   "cell_type": "code",
   "execution_count": 20,
   "metadata": {},
   "outputs": [],
   "source": [
    "different_tags_for_word = df.groupby('lower').tag.nunique()"
   ]
  },
  {
   "cell_type": "code",
   "execution_count": 37,
   "metadata": {},
   "outputs": [
    {
     "data": {
      "text/plain": [
       "lower\n",
       "!                       1\n",
       "restrukturyzację        1\n",
       "restrukturyzacyjna      1\n",
       "restrukturyzacyjnej     1\n",
       "restrykcyjnie           1\n",
       "restryktywne            1\n",
       "reszel                  1\n",
       "reszta                  1\n",
       "resztek                 1\n",
       "resztka                 1\n",
       "resztkach               1\n",
       "resztkami               1\n",
       "resztkowe               1\n",
       "resztką                 1\n",
       "reszty                  1\n",
       "restrukturyzacją        1\n",
       "resztę                  1\n",
       "retinol                 1\n",
       "retorycznie             1\n",
       "retorycznych            1\n",
       "retransmitowane         1\n",
       "retrospektywnej         1\n",
       "rettingerami            1\n",
       "retuszu                 1\n",
       "retuszy                 1\n",
       "reumatyzm               1\n",
       "reutera                 1\n",
       "reutz                   1\n",
       "rewanżowe               1\n",
       "rewanżowym              1\n",
       "                       ..\n",
       "90                     16\n",
       "17                     17\n",
       "a                      17\n",
       "16                     18\n",
       "19                     18\n",
       "100                    18\n",
       "tym                    18\n",
       "40                     18\n",
       "9                      19\n",
       "22                     19\n",
       "11                     19\n",
       "18                     19\n",
       "13                     20\n",
       "14                     20\n",
       "30                     20\n",
       "50                     21\n",
       "7                      21\n",
       "8                      23\n",
       "15                     23\n",
       "ii                     23\n",
       "5                      24\n",
       "12                     24\n",
       "1                      25\n",
       "i                      25\n",
       "20                     26\n",
       "10                     28\n",
       "6                      28\n",
       "3                      29\n",
       "4                      31\n",
       "2                      31\n",
       "Name: tag, Length: 77960, dtype: int64"
      ]
     },
     "execution_count": 37,
     "metadata": {},
     "output_type": "execute_result"
    }
   ],
   "source": [
    "different_tags_for_word.sort_values()"
   ]
  },
  {
   "cell_type": "code",
   "execution_count": 44,
   "metadata": {},
   "outputs": [
    {
     "data": {
      "text/plain": [
       "array(['ADJ:SG:NOM:M3:POS', 'ADJ:SG:NOM:N:POS', 'ADJ:SG:GEN:M3:POS',\n",
       "       'NUM:PL:NOM:M3:CONGR', 'NUM:PL:GEN:M3:CONGR', 'NUM:PL:NOM:N:REC',\n",
       "       'NUM:PL:NOM:M1:REC', 'ADJ:SG:LOC:M3:POS', 'NUM:PL:NOM:F:CONGR',\n",
       "       'ADJ:SG:NOM:F:POS', 'NUM:PL:N:CONGR', 'NUM:PL:ACC:F:CONGR',\n",
       "       'ADJ:SG:GEN:F:POS', 'NUM:PL:ACC:M3:CONGR', 'NUM:PL:NOM:N:CONGR',\n",
       "       'ADJ:SG:ACC:M3:POS', 'NUM:PL:NOM:M3:REC', 'NUM:PL:ACC:M2:CONGR',\n",
       "       'NUM:PL:ACC:M3:REC', 'ADJ:SG:LOC:F:POS', 'NUM:PL:LOC:M3:CONGR',\n",
       "       'ADJ:SG:INST:M3:POS', 'NUM:PL:GEN:F:CONGR', 'ADJ:SG:ACC:F:POS',\n",
       "       'NUM:PL:ACC:M1:REC', 'NUM:PL:ACC:N:CONGR', 'SUBST:SG:NOM:F',\n",
       "       'ADJ:PL:NOM:N:POS', 'NUM:PL:M3:REC', 'NUM:PL:M1:CONGR',\n",
       "       'ADJ:SG:ACC:N:POS'], dtype=object)"
      ]
     },
     "execution_count": 44,
     "metadata": {},
     "output_type": "execute_result"
    }
   ],
   "source": [
    "df[df['lower']=='2'].tag.unique()"
   ]
  },
  {
   "cell_type": "code",
   "execution_count": null,
   "metadata": {},
   "outputs": [],
   "source": []
  }
 ],
 "metadata": {
  "kernelspec": {
   "display_name": "Python [default]",
   "language": "python",
   "name": "python3"
  },
  "language_info": {
   "codemirror_mode": {
    "name": "ipython",
    "version": 3
   },
   "file_extension": ".py",
   "mimetype": "text/x-python",
   "name": "python",
   "nbconvert_exporter": "python",
   "pygments_lexer": "ipython3",
   "version": "3.6.4"
  },
  "toc": {
   "base_numbering": 1,
   "nav_menu": {},
   "number_sections": false,
   "sideBar": false,
   "skip_h1_title": false,
   "title_cell": "Table of Contents",
   "title_sidebar": "Contents",
   "toc_cell": false,
   "toc_position": {},
   "toc_section_display": false,
   "toc_window_display": false
  }
 },
 "nbformat": 4,
 "nbformat_minor": 2
}
